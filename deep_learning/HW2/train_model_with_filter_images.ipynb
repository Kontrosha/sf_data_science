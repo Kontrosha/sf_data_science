{
 "cells": [
  {
   "cell_type": "code",
   "execution_count": 1,
   "metadata": {},
   "outputs": [],
   "source": [
    "import numpy as np\n",
    "import tensorflow as tf\n",
    "import matplotlib.pyplot as plt\n",
    "import pandas as pd\n",
    "import cv2\n",
    "from sklearn.model_selection import train_test_split\n",
    "from sklearn.preprocessing import LabelBinarizer\n",
    "from tensorflow.keras.models import Sequential\n",
    "from tensorflow.keras.layers import Conv2D, MaxPooling2D, Flatten, Dense, Dropout, BatchNormalization\n",
    "from tensorflow.keras.optimizers import Adam\n",
    "from tensorflow.keras.callbacks import EarlyStopping, ReduceLROnPlateau"
   ]
  },
  {
   "cell_type": "code",
   "execution_count": 2,
   "metadata": {},
   "outputs": [],
   "source": [
    "# Загрузка данных\n",
    "labels = np.load('data/labels.npy')\n",
    "images = np.load('data/images.npy')"
   ]
  },
  {
   "cell_type": "code",
   "execution_count": 3,
   "metadata": {},
   "outputs": [],
   "source": [
    "# Функция для фильтрации изображений\n",
    "def denoise_image(image):\n",
    "    return cv2.medianBlur(image, 3)  # Медианный фильтр"
   ]
  },
  {
   "cell_type": "code",
   "execution_count": 29,
   "metadata": {},
   "outputs": [],
   "source": [
    "# Применение фильтров к изображению\n",
    "def preprocess_image(image):\n",
    "    # Применение фильтра GaussianBlur для уменьшения шума\n",
    "    blurred = cv2.GaussianBlur(image, (5, 5), 0)\n",
    "    # Усиление контрастности\n",
    "    enhanced = cv2.convertScaleAbs(blurred, alpha=1.5, beta=0)\n",
    "    # Центрирование данных: вычитание среднего\n",
    "    centered = enhanced - np.mean(enhanced, axis=(0, 1), keepdims=True)\n",
    "    # Нормализация\n",
    "    normalized = centered / 255.0\n",
    "    \n",
    "    return normalized"
   ]
  },
  {
   "cell_type": "code",
   "execution_count": 30,
   "metadata": {},
   "outputs": [],
   "source": [
    "def plot_images(images, preprocessed_images, num_images=10):\n",
    "    plt.figure(figsize=(20, 5))\n",
    "    for i in range(num_images):\n",
    "        plt.subplot(2, num_images, i + 1)\n",
    "        plt.imshow(images[i])\n",
    "        plt.title('Original')\n",
    "        plt.axis('off')\n",
    "\n",
    "        plt.subplot(2, num_images, i + 1 + num_images)\n",
    "        plt.imshow(preprocessed_images[i])\n",
    "        plt.title('Preprocessed')\n",
    "        plt.axis('off')\n",
    "\n",
    "    plt.show()"
   ]
  },
  {
   "cell_type": "code",
   "execution_count": 32,
   "metadata": {},
   "outputs": [
    {
     "ename": "NameError",
     "evalue": "name 'plot_images' is not defined",
     "output_type": "error",
     "traceback": [
      "\u001b[0;31m---------------------------------------------------------------------------\u001b[0m",
      "\u001b[0;31mNameError\u001b[0m                                 Traceback (most recent call last)",
      "Cell \u001b[0;32mIn[32], line 3\u001b[0m\n\u001b[1;32m      1\u001b[0m preprocessed_imgs \u001b[38;5;241m=\u001b[39m np\u001b[38;5;241m.\u001b[39marray([denoise_image(img) \u001b[38;5;28;01mfor\u001b[39;00m img \u001b[38;5;129;01min\u001b[39;00m images_denoised])\n\u001b[1;32m      2\u001b[0m \u001b[38;5;66;03m# Визуализация обработки изображений\u001b[39;00m\n\u001b[0;32m----> 3\u001b[0m \u001b[43mplot_images\u001b[49m(images, preprocessed_imgs, num_images\u001b[38;5;241m=\u001b[39m\u001b[38;5;241m10\u001b[39m)\n",
      "\u001b[0;31mNameError\u001b[0m: name 'plot_images' is not defined"
     ]
    }
   ],
   "source": [
    "preprocessed_imgs = np.array([denoise_image(img) for img in images_denoised])\n",
    "# Визуализация обработки изображений\n",
    "plot_images(images, preprocessed_imgs, num_images=10)"
   ]
  },
  {
   "cell_type": "code",
   "execution_count": 33,
   "metadata": {},
   "outputs": [],
   "source": [
    "# Разделение данных на обучающую и тестовую выборки\n",
    "X_train, X_test, y_train, y_test = train_test_split(images, labels, test_size=0.2, random_state=42)\n",
    "\n",
    "# Применение предобработки ко всем изображениям\n",
    "X_train_processed = np.array([preprocess_image(img) for img in X_train])\n",
    "X_test_processed = np.array([preprocess_image(img) for img in X_test])\n",
    "\n",
    "# Кодирование меток в формат one-hot\n",
    "label_binarizer = LabelBinarizer()\n",
    "y_train = label_binarizer.fit_transform(y_train)\n",
    "y_test = label_binarizer.transform(y_test)"
   ]
  },
  {
   "cell_type": "code",
   "execution_count": 34,
   "metadata": {},
   "outputs": [
    {
     "name": "stderr",
     "output_type": "stream",
     "text": [
      "/opt/homebrew/lib/python3.11/site-packages/keras/src/layers/convolutional/base_conv.py:107: UserWarning: Do not pass an `input_shape`/`input_dim` argument to a layer. When using Sequential models, prefer using an `Input(shape)` object as the first layer in the model instead.\n",
      "  super().__init__(activity_regularizer=activity_regularizer, **kwargs)\n"
     ]
    }
   ],
   "source": [
    "# Создание модели\n",
    "model = Sequential([\n",
    "    Conv2D(32, (3, 3), activation='relu', input_shape=(48, 48, 3)),\n",
    "    BatchNormalization(),\n",
    "    MaxPooling2D((2, 2)),\n",
    "    Dropout(0.25),\n",
    "\n",
    "    Conv2D(64, (3, 3), activation='relu'),\n",
    "    BatchNormalization(),\n",
    "    MaxPooling2D((2, 2)),\n",
    "    Dropout(0.25),\n",
    "\n",
    "    Flatten(),\n",
    "\n",
    "    Dense(128, activation='relu'),\n",
    "    Dropout(0.5),\n",
    "\n",
    "    Dense(len(label_binarizer.classes_), activation='softmax')\n",
    "])\n",
    "\n",
    "# Компиляция модели\n",
    "model.compile(optimizer=Adam(learning_rate=0.001), loss='categorical_crossentropy', metrics=['accuracy'])\n",
    "\n",
    "# Использование callbacks\n",
    "early_stopping = EarlyStopping(monitor='val_loss', patience=3, restore_best_weights=True)\n",
    "reduce_lr = ReduceLROnPlateau(monitor='val_loss', factor=0.2, patience=2, min_lr=0.00001)"
   ]
  },
  {
   "cell_type": "code",
   "execution_count": 27,
   "metadata": {},
   "outputs": [
    {
     "name": "stdout",
     "output_type": "stream",
     "text": [
      "Epoch 1/30\n",
      "\u001b[1m500/500\u001b[0m \u001b[32m━━━━━━━━━━━━━━━━━━━━\u001b[0m\u001b[37m\u001b[0m \u001b[1m18s\u001b[0m 34ms/step - accuracy: 0.0552 - loss: 4.1228 - val_accuracy: 0.1195 - val_loss: 3.4424 - learning_rate: 0.0010\n",
      "Epoch 2/30\n",
      "\u001b[1m500/500\u001b[0m \u001b[32m━━━━━━━━━━━━━━━━━━━━\u001b[0m\u001b[37m\u001b[0m \u001b[1m17s\u001b[0m 33ms/step - accuracy: 0.1578 - loss: 3.2489 - val_accuracy: 0.3960 - val_loss: 2.4370 - learning_rate: 0.0010\n",
      "Epoch 3/30\n",
      "\u001b[1m500/500\u001b[0m \u001b[32m━━━━━━━━━━━━━━━━━━━━\u001b[0m\u001b[37m\u001b[0m \u001b[1m17s\u001b[0m 35ms/step - accuracy: 0.3700 - loss: 2.4786 - val_accuracy: 0.4515 - val_loss: 2.2297 - learning_rate: 0.0010\n",
      "Epoch 4/30\n",
      "\u001b[1m500/500\u001b[0m \u001b[32m━━━━━━━━━━━━━━━━━━━━\u001b[0m\u001b[37m\u001b[0m \u001b[1m18s\u001b[0m 35ms/step - accuracy: 0.4964 - loss: 2.0295 - val_accuracy: 0.6270 - val_loss: 1.7295 - learning_rate: 0.0010\n",
      "Epoch 5/30\n",
      "\u001b[1m500/500\u001b[0m \u001b[32m━━━━━━━━━━━━━━━━━━━━\u001b[0m\u001b[37m\u001b[0m \u001b[1m18s\u001b[0m 35ms/step - accuracy: 0.6077 - loss: 1.7604 - val_accuracy: 0.6545 - val_loss: 1.6234 - learning_rate: 0.0010\n",
      "Epoch 6/30\n",
      "\u001b[1m500/500\u001b[0m \u001b[32m━━━━━━━━━━━━━━━━━━━━\u001b[0m\u001b[37m\u001b[0m \u001b[1m17s\u001b[0m 33ms/step - accuracy: 0.6658 - loss: 1.5646 - val_accuracy: 0.6952 - val_loss: 1.5400 - learning_rate: 0.0010\n",
      "Epoch 7/30\n",
      "\u001b[1m500/500\u001b[0m \u001b[32m━━━━━━━━━━━━━━━━━━━━\u001b[0m\u001b[37m\u001b[0m \u001b[1m18s\u001b[0m 35ms/step - accuracy: 0.7224 - loss: 1.4323 - val_accuracy: 0.7555 - val_loss: 1.3821 - learning_rate: 0.0010\n",
      "Epoch 8/30\n",
      "\u001b[1m500/500\u001b[0m \u001b[32m━━━━━━━━━━━━━━━━━━━━\u001b[0m\u001b[37m\u001b[0m \u001b[1m18s\u001b[0m 35ms/step - accuracy: 0.7713 - loss: 1.3298 - val_accuracy: 0.7653 - val_loss: 1.3899 - learning_rate: 0.0010\n",
      "Epoch 9/30\n",
      "\u001b[1m500/500\u001b[0m \u001b[32m━━━━━━━━━━━━━━━━━━━━\u001b[0m\u001b[37m\u001b[0m \u001b[1m18s\u001b[0m 36ms/step - accuracy: 0.7987 - loss: 1.2544 - val_accuracy: 0.7675 - val_loss: 1.4079 - learning_rate: 0.0010\n",
      "Epoch 10/30\n",
      "\u001b[1m500/500\u001b[0m \u001b[32m━━━━━━━━━━━━━━━━━━━━\u001b[0m\u001b[37m\u001b[0m \u001b[1m19s\u001b[0m 37ms/step - accuracy: 0.8534 - loss: 1.0900 - val_accuracy: 0.8407 - val_loss: 1.1294 - learning_rate: 2.0000e-04\n",
      "Epoch 11/30\n",
      "\u001b[1m500/500\u001b[0m \u001b[32m━━━━━━━━━━━━━━━━━━━━\u001b[0m\u001b[37m\u001b[0m \u001b[1m18s\u001b[0m 35ms/step - accuracy: 0.8976 - loss: 0.9185 - val_accuracy: 0.8400 - val_loss: 1.0715 - learning_rate: 2.0000e-04\n",
      "Epoch 12/30\n",
      "\u001b[1m500/500\u001b[0m \u001b[32m━━━━━━━━━━━━━━━━━━━━\u001b[0m\u001b[37m\u001b[0m \u001b[1m17s\u001b[0m 33ms/step - accuracy: 0.9085 - loss: 0.8307 - val_accuracy: 0.8470 - val_loss: 1.0195 - learning_rate: 2.0000e-04\n",
      "Epoch 13/30\n",
      "\u001b[1m500/500\u001b[0m \u001b[32m━━━━━━━━━━━━━━━━━━━━\u001b[0m\u001b[37m\u001b[0m \u001b[1m17s\u001b[0m 34ms/step - accuracy: 0.9311 - loss: 0.7425 - val_accuracy: 0.8512 - val_loss: 0.9844 - learning_rate: 2.0000e-04\n",
      "Epoch 14/30\n",
      "\u001b[1m500/500\u001b[0m \u001b[32m━━━━━━━━━━━━━━━━━━━━\u001b[0m\u001b[37m\u001b[0m \u001b[1m17s\u001b[0m 35ms/step - accuracy: 0.9396 - loss: 0.6829 - val_accuracy: 0.8522 - val_loss: 0.9491 - learning_rate: 2.0000e-04\n",
      "Epoch 15/30\n",
      "\u001b[1m500/500\u001b[0m \u001b[32m━━━━━━━━━━━━━━━━━━━━\u001b[0m\u001b[37m\u001b[0m \u001b[1m17s\u001b[0m 34ms/step - accuracy: 0.9442 - loss: 0.6363 - val_accuracy: 0.8487 - val_loss: 0.9252 - learning_rate: 2.0000e-04\n",
      "Epoch 16/30\n",
      "\u001b[1m500/500\u001b[0m \u001b[32m━━━━━━━━━━━━━━━━━━━━\u001b[0m\u001b[37m\u001b[0m \u001b[1m17s\u001b[0m 33ms/step - accuracy: 0.9509 - loss: 0.5909 - val_accuracy: 0.8480 - val_loss: 0.9152 - learning_rate: 2.0000e-04\n",
      "Epoch 17/30\n",
      "\u001b[1m500/500\u001b[0m \u001b[32m━━━━━━━━━━━━━━━━━━━━\u001b[0m\u001b[37m\u001b[0m \u001b[1m17s\u001b[0m 33ms/step - accuracy: 0.9595 - loss: 0.5473 - val_accuracy: 0.8485 - val_loss: 0.9131 - learning_rate: 2.0000e-04\n",
      "Epoch 18/30\n",
      "\u001b[1m500/500\u001b[0m \u001b[32m━━━━━━━━━━━━━━━━━━━━\u001b[0m\u001b[37m\u001b[0m \u001b[1m16s\u001b[0m 32ms/step - accuracy: 0.9603 - loss: 0.5254 - val_accuracy: 0.8462 - val_loss: 0.8837 - learning_rate: 2.0000e-04\n",
      "Epoch 19/30\n",
      "\u001b[1m500/500\u001b[0m \u001b[32m━━━━━━━━━━━━━━━━━━━━\u001b[0m\u001b[37m\u001b[0m \u001b[1m17s\u001b[0m 34ms/step - accuracy: 0.9674 - loss: 0.4884 - val_accuracy: 0.8422 - val_loss: 0.8871 - learning_rate: 2.0000e-04\n",
      "Epoch 20/30\n",
      "\u001b[1m500/500\u001b[0m \u001b[32m━━━━━━━━━━━━━━━━━━━━\u001b[0m\u001b[37m\u001b[0m \u001b[1m17s\u001b[0m 34ms/step - accuracy: 0.9690 - loss: 0.4643 - val_accuracy: 0.8445 - val_loss: 0.8558 - learning_rate: 2.0000e-04\n",
      "Epoch 21/30\n",
      "\u001b[1m500/500\u001b[0m \u001b[32m━━━━━━━━━━━━━━━━━━━━\u001b[0m\u001b[37m\u001b[0m \u001b[1m17s\u001b[0m 33ms/step - accuracy: 0.9710 - loss: 0.4397 - val_accuracy: 0.8470 - val_loss: 0.8302 - learning_rate: 2.0000e-04\n",
      "Epoch 22/30\n",
      "\u001b[1m500/500\u001b[0m \u001b[32m━━━━━━━━━━━━━━━━━━━━\u001b[0m\u001b[37m\u001b[0m \u001b[1m17s\u001b[0m 33ms/step - accuracy: 0.9741 - loss: 0.4155 - val_accuracy: 0.8425 - val_loss: 0.8420 - learning_rate: 2.0000e-04\n",
      "Epoch 23/30\n",
      "\u001b[1m500/500\u001b[0m \u001b[32m━━━━━━━━━━━━━━━━━━━━\u001b[0m\u001b[37m\u001b[0m \u001b[1m16s\u001b[0m 33ms/step - accuracy: 0.9756 - loss: 0.3997 - val_accuracy: 0.8418 - val_loss: 0.8572 - learning_rate: 2.0000e-04\n",
      "Epoch 24/30\n",
      "\u001b[1m500/500\u001b[0m \u001b[32m━━━━━━━━━━━━━━━━━━━━\u001b[0m\u001b[37m\u001b[0m \u001b[1m16s\u001b[0m 32ms/step - accuracy: 0.9844 - loss: 0.3726 - val_accuracy: 0.8533 - val_loss: 0.7960 - learning_rate: 4.0000e-05\n",
      "Epoch 25/30\n",
      "\u001b[1m500/500\u001b[0m \u001b[32m━━━━━━━━━━━━━━━━━━━━\u001b[0m\u001b[37m\u001b[0m \u001b[1m17s\u001b[0m 35ms/step - accuracy: 0.9857 - loss: 0.3584 - val_accuracy: 0.8537 - val_loss: 0.7853 - learning_rate: 4.0000e-05\n",
      "Epoch 26/30\n",
      "\u001b[1m500/500\u001b[0m \u001b[32m━━━━━━━━━━━━━━━━━━━━\u001b[0m\u001b[37m\u001b[0m \u001b[1m17s\u001b[0m 33ms/step - accuracy: 0.9887 - loss: 0.3466 - val_accuracy: 0.8595 - val_loss: 0.7786 - learning_rate: 4.0000e-05\n",
      "Epoch 27/30\n",
      "\u001b[1m500/500\u001b[0m \u001b[32m━━━━━━━━━━━━━━━━━━━━\u001b[0m\u001b[37m\u001b[0m \u001b[1m16s\u001b[0m 33ms/step - accuracy: 0.9892 - loss: 0.3378 - val_accuracy: 0.8555 - val_loss: 0.7821 - learning_rate: 4.0000e-05\n",
      "Epoch 28/30\n",
      "\u001b[1m500/500\u001b[0m \u001b[32m━━━━━━━━━━━━━━━━━━━━\u001b[0m\u001b[37m\u001b[0m \u001b[1m16s\u001b[0m 31ms/step - accuracy: 0.9912 - loss: 0.3275 - val_accuracy: 0.8540 - val_loss: 0.7745 - learning_rate: 4.0000e-05\n",
      "Epoch 29/30\n",
      "\u001b[1m500/500\u001b[0m \u001b[32m━━━━━━━━━━━━━━━━━━━━\u001b[0m\u001b[37m\u001b[0m \u001b[1m16s\u001b[0m 32ms/step - accuracy: 0.9912 - loss: 0.3202 - val_accuracy: 0.8553 - val_loss: 0.7734 - learning_rate: 4.0000e-05\n",
      "Epoch 30/30\n",
      "\u001b[1m500/500\u001b[0m \u001b[32m━━━━━━━━━━━━━━━━━━━━\u001b[0m\u001b[37m\u001b[0m \u001b[1m17s\u001b[0m 35ms/step - accuracy: 0.9925 - loss: 0.3122 - val_accuracy: 0.8535 - val_loss: 0.7711 - learning_rate: 4.0000e-05\n"
     ]
    }
   ],
   "source": [
    "# Обучение модели\n",
    "history = model.fit(X_train, y_train, epochs=30, batch_size=32, validation_data=(X_test, y_test), callbacks=[early_stopping, reduce_lr])"
   ]
  },
  {
   "cell_type": "code",
   "execution_count": 28,
   "metadata": {},
   "outputs": [
    {
     "name": "stdout",
     "output_type": "stream",
     "text": [
      "\u001b[1m125/125\u001b[0m \u001b[32m━━━━━━━━━━━━━━━━━━━━\u001b[0m\u001b[37m\u001b[0m \u001b[1m1s\u001b[0m 9ms/step - accuracy: 0.8581 - loss: 0.7509\n"
     ]
    }
   ],
   "source": [
    "# Оценка модели\n",
    "test_loss, test_accuracy = model.evaluate(X_test, y_test)"
   ]
  },
  {
   "cell_type": "code",
   "execution_count": 16,
   "metadata": {},
   "outputs": [
    {
     "data": {
      "image/png": "[encoded data removed]",
      "text/plain": [
       "<Figure size 1200x500 with 2 Axes>"
      ]
     },
     "metadata": {},
     "output_type": "display_data"
    }
   ],
   "source": [
    "acc = history.history['accuracy']\n",
    "val_acc = history.history['val_accuracy']\n",
    "loss = history.history['loss']\n",
    "val_loss = history.history['val_loss']\n",
    "epochs = range(1, len(acc) + 1)\n",
    "\n",
    "plt.figure(figsize=(12, 5))\n",
    "plt.subplot(1, 2, 1)\n",
    "plt.plot(epochs, acc, 'bo', label='Training accuracy')\n",
    "plt.plot(epochs, val_acc, 'b', label='Validation accuracy')\n",
    "plt.title('Training and Validation Accuracy')\n",
    "plt.legend()\n",
    "\n",
    "plt.subplot(1, 2, 2)\n",
    "plt.plot(epochs, loss, 'bo', label='Training loss')\n",
    "plt.plot(epochs, val_loss, 'b', label='Validation loss')\n",
    "plt.title('Training and Validation Loss')\n",
    "plt.legend()\n",
    "\n",
    "plt.show()"
   ]
  },
  {
   "cell_type": "code",
   "execution_count": 17,
   "metadata": {},
   "outputs": [],
   "source": [
    "# Загрузка данных для предсказания\n",
    "images_sub = np.load('data/images_sub.npy')"
   ]
  },
  {
   "cell_type": "code",
   "execution_count": 18,
   "metadata": {},
   "outputs": [
    {
     "name": "stdout",
     "output_type": "stream",
     "text": [
      "\u001b[1m1563/1563\u001b[0m \u001b[32m━━━━━━━━━━━━━━━━━━━━\u001b[0m\u001b[37m\u001b[0m \u001b[1m11s\u001b[0m 7ms/step\n"
     ]
    }
   ],
   "source": [
    "# Нормализация изображений\n",
    "images_sub_preprocess = np.array([preprocess_image(img) for img in images_sub])\n",
    "# Выполнение предсказаний\n",
    "predictions = model.predict(images_sub_preprocess)\n",
    "predicted_labels = label_binarizer.inverse_transform(predictions)"
   ]
  },
  {
   "cell_type": "code",
   "execution_count": 19,
   "metadata": {},
   "outputs": [
    {
     "name": "stdout",
     "output_type": "stream",
     "text": [
      "<class 'pandas.core.frame.DataFrame'>\n",
      "RangeIndex: 50000 entries, 0 to 49999\n",
      "Data columns (total 2 columns):\n",
      " #   Column    Non-Null Count  Dtype\n",
      "---  ------    --------------  -----\n",
      " 0   Id        50000 non-null  int64\n",
      " 1   Category  50000 non-null  int64\n",
      "dtypes: int64(2)\n",
      "memory usage: 781.4 KB\n"
     ]
    }
   ],
   "source": [
    "# Создание DataFrame для отправки\n",
    "submission = pd.DataFrame({'Id': np.arange(len(predicted_labels)), 'Category': predicted_labels})\n",
    "\n",
    "# Проверка формата ответа\n",
    "submission.info()"
   ]
  },
  {
   "cell_type": "code",
   "execution_count": 20,
   "metadata": {},
   "outputs": [],
   "source": [
    "# Сохранение файла\n",
    "submission.to_csv('data/predictions_with_filters.csv', index=False)"
   ]
  },
  {
   "cell_type": "code",
   "execution_count": null,
   "metadata": {},
   "outputs": [],
   "source": []
  }
 ],
 "metadata": {
  "kernelspec": {
   "display_name": "Python 3",
   "language": "python",
   "name": "python3"
  },
  "language_info": {
   "codemirror_mode": {
    "name": "ipython",
    "version": 3
   },
   "file_extension": ".py",
   "mimetype": "text/x-python",
   "name": "python",
   "nbconvert_exporter": "python",
   "pygments_lexer": "ipython3",
   "version": "3.11.8"
  }
 },
 "nbformat": 4,
 "nbformat_minor": 2
}
