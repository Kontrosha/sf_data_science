{
 "cells": [
  {
   "cell_type": "markdown",
   "id": "42289889-bd57-434e-9637-d3e354756316",
   "metadata": {},
   "source": [
    "<center> <img src = https://raw.githubusercontent.com/AndreyRysistov/DatasetsForPandas/main/hh%20label.jpg alt=\"drawing\" style=\"width:400px;\">\n"
   ]
  },
  {
   "cell_type": "markdown",
   "id": "829cb75b-f14e-4ba8-9195-7ba929a7d656",
   "metadata": {
    "tags": []
   },
   "source": [
    "# <center> Проект: Анализ резюме из HeadHunter\n"
   ]
  },
  {
   "cell_type": "code",
   "execution_count": null,
   "id": "dccfde33-2452-43fb-a8a5-5c6ebc02a71d",
   "metadata": {},
   "outputs": [],
   "source": [
    "import pandas as pd\n",
    "import numpy as np\n",
    "import re\n",
    "import datetime\n",
    "import matplotlib.pyplot as plt\n",
    "import seaborn as sns\n",
    "import plotly.express as px\n",
    "import plotly.subplots as sp\n",
    "import plotly.graph_objects as go\n",
    "from IPython.display import display\n",
    "from plotly.subplots import make_subplots"
   ]
  },
  {
   "cell_type": "markdown",
   "id": "0dc6476b-7a00-44f1-ac93-6e3baed33a29",
   "metadata": {},
   "source": [
    "# Исследование структуры данных\n"
   ]
  },
  {
   "cell_type": "markdown",
   "id": "889782b6-8d1c-410e-8920-e57f27917c64",
   "metadata": {},
   "source": [
    "1. Прочитайте данные с помощью библиотеки Pandas. Совет: перед чтением обратите внимание на разделитель внутри файла.\n"
   ]
  },
  {
   "cell_type": "code",
   "execution_count": null,
   "id": "bc39e68e-ed02-4ee2-9235-7258a2f867a8",
   "metadata": {},
   "outputs": [],
   "source": [
    "hh_data_original = pd.read_csv(\"../tables/dst-3.0_16_1_hh_database.csv\", sep=\";\")\n",
    "hh_data = hh_data_original.copy()  # copy dataframe to protect original table"
   ]
  },
  {
   "cell_type": "markdown",
   "id": "b583485d-1f9e-494e-ada4-80ffff7c53d6",
   "metadata": {},
   "source": [
    "2. Выведите несколько первых (последних) строк таблицы, чтобы убедиться в том, что ваши данные не повреждены. Ознакомьтесь с признаками и их структурой.\n"
   ]
  },
  {
   "cell_type": "code",
   "execution_count": null,
   "id": "5408c52c-3407-4a63-b25b-1aafa2322d28",
   "metadata": {},
   "outputs": [],
   "source": [
    "hh_data.head()"
   ]
  },
  {
   "cell_type": "markdown",
   "id": "a2bfff1f-c975-4bf6-84be-2185d79dcb76",
   "metadata": {},
   "source": [
    "3. Выведите основную информацию о числе непустых значений в столбцах и их типах в таблице.\n"
   ]
  },
  {
   "cell_type": "code",
   "execution_count": null,
   "id": "e9f90b6f",
   "metadata": {},
   "outputs": [],
   "source": [
    "hh_data.info()"
   ]
  },
  {
   "cell_type": "markdown",
   "id": "41bb59f3-53cc-4a67-a5bc-bedf573955e4",
   "metadata": {},
   "source": [
    "4. Обратите внимание на информацию о числе непустых значений.\n"
   ]
  },
  {
   "cell_type": "code",
   "execution_count": null,
   "id": "d286cf4c-707b-4cd2-9190-7ab3587d04a1",
   "metadata": {},
   "outputs": [],
   "source": [
    "hh_data.notna().sum()"
   ]
  },
  {
   "cell_type": "markdown",
   "id": "9a8a2181-6914-448b-85f1-38f5f18b8a93",
   "metadata": {},
   "source": [
    "5. Выведите основную статистическую информацию о столбцах.\n"
   ]
  },
  {
   "cell_type": "code",
   "execution_count": null,
   "id": "be4e9bd3-a4db-4a20-82fb-6b02fc2957e0",
   "metadata": {},
   "outputs": [],
   "source": [
    "hh_data.describe(include=object)"
   ]
  },
  {
   "cell_type": "code",
   "execution_count": null,
   "id": "4d086c4b",
   "metadata": {},
   "outputs": [],
   "source": [
    "# block with code for answer questions:\n",
    "hh_data[\"Опыт работы\"].describe(include=object())\n",
    "hh_data[\"Последняя/нынешняя должность\"].describe(include=object())"
   ]
  },
  {
   "cell_type": "markdown",
   "id": "8d62a9f3-f64e-4fe7-bdac-c4dffa16155e",
   "metadata": {},
   "source": [
    "# Преобразование данных\n"
   ]
  },
  {
   "cell_type": "markdown",
   "id": "93053d3d-b284-481a-9cf7-012d7014c0e0",
   "metadata": {},
   "source": [
    "1. Начнем с простого - с признака **\"Образование и ВУЗ\"**. Его текущий формат это: **<Уровень образования год выпуска ВУЗ специальность...>**. Например:\n",
    "\n",
    "- Высшее образование 2016 Московский авиационный институт (национальный исследовательский университет)...\n",
    "- Неоконченное высшее образование 2000 Балтийская государственная академия рыбопромыслового флота…\n",
    "  Нас будет интересовать только уровень образования.\n",
    "\n",
    "Создайте с помощью функции-преобразования новый признак **\"Образование\"**, который должен иметь 4 категории: \"высшее\", \"неоконченное высшее\", \"среднее специальное\" и \"среднее\".\n",
    "\n",
    "Выполните преобразование, ответьте на контрольные вопросы и удалите признак \"Образование и ВУЗ\".\n",
    "\n",
    "Совет: обратите внимание на структуру текста в столбце **\"Образование и ВУЗ\"**. Гарантируется, что текущий уровень образования соискателя всегда находится в первых 2ух слов и начинается с заглавной буквы. Воспользуйтесь этим.\n",
    "\n",
    "_Совет: проверяйте полученные категории, например, с помощью метода unique()_\n"
   ]
  },
  {
   "cell_type": "code",
   "execution_count": null,
   "id": "3f069da6-fdc9-4ae7-b514-fafe2675efd3",
   "metadata": {},
   "outputs": [],
   "source": [
    "def find_education(full_educ_row: str) -> str:\n",
    "    \"\"\"\n",
    "    Return education level string.\n",
    "    \"\"\"\n",
    "    pattern = r\"(.+)(\\d{4})\" # initialize patter for search\n",
    "    match = re.search(pattern, full_educ_row)\n",
    "    all_symbols_before_year = match.group(1) if match else \"\"\n",
    "    return all_symbols_before_year[:-1]\n",
    "\n",
    "\n",
    "def create_education(education_level: str) -> str:\n",
    "    \"\"\"\n",
    "    Execute education from eduction level string.\n",
    "    \"\"\"\n",
    "    education = education_level.lower().split()\n",
    "    if education[0] == \"неоконченное\" or education[1] == \"специальное\":\n",
    "        return str(education[0] + \" \" + education[1])\n",
    "    else:\n",
    "        return education[0]"
   ]
  },
  {
   "cell_type": "code",
   "execution_count": null,
   "id": "71507a24",
   "metadata": {},
   "outputs": [],
   "source": [
    "hh_data['Образование'] = hh_data['Образование и ВУЗ'].apply(lambda x: create_education(find_education(x)))\n",
    "\n",
    "# check if we have only four required values in new column\n",
    "assert set(hh_data['Образование'].unique()) == set(['неоконченное высшее', 'высшее', 'среднее специальное', 'среднее'])"
   ]
  },
  {
   "cell_type": "code",
   "execution_count": null,
   "id": "6e2878dd",
   "metadata": {},
   "outputs": [],
   "source": [
    "# block with code for answer questions:\n",
    "len(hh_data[hh_data[\"Образование\"] == \"среднее\"])\n",
    "\n",
    "# drop column 'Образование и ВУЗ'\n",
    "hh_data.drop(columns=\"Образование и ВУЗ\", axis=1, inplace=True)"
   ]
  },
  {
   "cell_type": "markdown",
   "id": "4266f0b6-1646-492a-88b4-2f6a46502135",
   "metadata": {},
   "source": [
    "2. Теперь нас интересует столбец **\"Пол, возраст\"**. Сейчас он представлен в формате **<Пол , возраст , дата рождения >**. Например:\n",
    "\n",
    "- Мужчина , 39 лет , родился 27 ноября 1979\n",
    "- Женщина , 21 год , родилась 13 января 2000\n",
    "  Как вы понимаете, нам необходимо выделить каждый параметр в отдельный столбец.\n",
    "\n",
    "Создайте два новых признака **\"Пол\"** и **\"Возраст\"**. При этом важно учесть:\n",
    "\n",
    "- Признак пола должен иметь 2 уникальных строковых значения: 'М' - мужчина, 'Ж' - женщина.\n",
    "- Признак возраста должен быть представлен целыми числами.\n",
    "\n",
    "Выполните преобразование, ответьте на контрольные вопросы и удалите признак **\"Пол, возраст\"** из таблицы.\n",
    "\n",
    "_Совет: обратите внимание на структуру текста в столбце, в части на то, как разделены параметры пола, возраста и даты рождения между собой - символом ' , '.\n",
    "Гарантируется, что структура одинакова для всех строк в таблице. Вы можете воспользоваться этим._\n"
   ]
  },
  {
   "cell_type": "code",
   "execution_count": null,
   "id": "0c44b350-72eb-4d65-8b54-a1fc449ba9fd",
   "metadata": {},
   "outputs": [],
   "source": [
    "def find_user_data(row: str) -> tuple:\n",
    "    \"\"\"\n",
    "    Return tuple with gender and age.\n",
    "    \"\"\"\n",
    "    user_data = row.split(' , ')\n",
    "    return user_data[0][0], user_data[1].split()[0]"
   ]
  },
  {
   "cell_type": "code",
   "execution_count": null,
   "id": "623e8324",
   "metadata": {},
   "outputs": [],
   "source": [
    "hh_data[[\"Пол\", \"Возраст\"]] = (\n",
    "    hh_data[\"Пол, возраст\"].apply(find_user_data).apply(pd.Series)\n",
    ")\n",
    "hh_data[\"Возраст\"] = hh_data[\"Возраст\"].astype(pd.Int64Dtype())\n",
    "# use assert to check if i did correct converts for new columns\n",
    "assert set(hh_data[\"Пол\"].unique()) == set([\"М\", \"Ж\"])\n",
    "assert hh_data[\"Возраст\"].dtype == \"Int64\""
   ]
  },
  {
   "cell_type": "code",
   "execution_count": null,
   "id": "127fc9c0",
   "metadata": {},
   "outputs": [],
   "source": [
    "# block of code to answer questions\n",
    "round((len(hh_data[hh_data[\"Пол\"] == \"Ж\"]) / len(hh_data[\"Пол\"])) * 100, 2)\n",
    "round(hh_data[\"Возраст\"].mean(), 2)\n",
    "\n",
    "# drop column 'Пол, возраст'\n",
    "hh_data.drop(columns=[\"Пол, возраст\"], axis=1, inplace=True)"
   ]
  },
  {
   "cell_type": "markdown",
   "id": "635c4d5d-f323-4c66-b428-50a088120aa0",
   "metadata": {},
   "source": [
    "3. Следующим этапом преобразуем признак **\"Опыт работы\"**. Его текущий формат - это: **<Опыт работы: n лет m месяцев, периоды работы в различных компаниях…>**.\n",
    "\n",
    "Из столбца нам необходимо выделить общий опыт работы соискателя в месяцах, новый признак назовем \"Опыт работы (месяц)\"\n",
    "\n",
    "Для начала обсудим условия решения задачи:\n",
    "\n",
    "- Во-первых, в данном признаке есть пропуски. Условимся, что если мы встречаем пропуск, оставляем его как есть (функция-преобразование возвращает NaN)\n",
    "- Во-вторых, в данном признаке есть скрытые пропуски. Для некоторых соискателей в столбце стоит значения \"Не указано\". Их тоже обозначим как NaN (функция-преобразование возвращает NaN)\n",
    "- В-третьих, нас не интересует информация, которая описывается после указания опыта работы (периоды работы в различных компаниях)\n",
    "- В-четвертых, у нас есть проблема: опыт работы может быть представлен только в годах или только месяцах. Например, можно встретить следующие варианты:\n",
    "  - Опыт работы 3 года 2 месяца…\n",
    "  - Опыт работы 4 года…\n",
    "  - Опыт работы 11 месяцев…\n",
    "  - Учитывайте эту особенность в вашем коде\n",
    "\n",
    "Учитывайте эту особенность в вашем коде\n",
    "\n",
    "В результате преобразования у вас должен получиться столбец, содержащий информацию о том, сколько месяцев проработал соискатель.\n",
    "Выполните преобразование, ответьте на контрольные вопросы и удалите столбец **\"Опыт работы\"** из таблицы.\n"
   ]
  },
  {
   "cell_type": "code",
   "execution_count": null,
   "id": "603cdbe4-0ec3-4106-8eaf-c73fcdd29165",
   "metadata": {},
   "outputs": [],
   "source": [
    "def find_experience(value) -> int:\n",
    "    \"\"\"\n",
    "    Return work experience in months.\n",
    "    \"\"\"\n",
    "    if value is np.nan:\n",
    "        return np.nan\n",
    "    elif value == \"Не указано\":\n",
    "        return np.nan\n",
    "    experience = value[0]\n",
    "    i = 1\n",
    "    # try to find all symbols up to the next\n",
    "    # capital letter, which is at the beginning of the\n",
    "    # part about the period of work\n",
    "    while (not value[i].isupper()) and i < len(value)-1:\n",
    "        experience += value[i]\n",
    "        i += 1\n",
    "\n",
    "    month_pattern = re.compile(r\"(\\d+)\\s+(месяц?)\")\n",
    "    match_month = re.search(month_pattern, experience)\n",
    "    month = int(match_month.group(1)) if match_month else 0\n",
    "\n",
    "    year_pattern = re.compile(r\"(\\d+)\\s+(год|лет?)\")\n",
    "    match_year = re.search(year_pattern, experience)\n",
    "    year = int(match_year.group(1)) if match_year else 0\n",
    "\n",
    "    return year*12 + month"
   ]
  },
  {
   "cell_type": "code",
   "execution_count": null,
   "id": "d59b54a9",
   "metadata": {},
   "outputs": [],
   "source": [
    "hh_data[\"Опыт работы (месяц)\"] = hh_data[\"Опыт работы\"].apply(find_experience)\n",
    "hh_data[\"Опыт работы (месяц)\"] = hh_data[\"Опыт работы (месяц)\"].astype(\n",
    "    pd.Int64Dtype()\n",
    ")  # experience should be int number\n",
    "\n",
    "# check if we execute work experience in months correctly\n",
    "assert hh_data[\"Опыт работы (месяц)\"].isna().sum() != 0  # NaN should be presented\n",
    "assert hh_data[\"Опыт работы (месяц)\"].dtype == \"Int64\""
   ]
  },
  {
   "cell_type": "code",
   "execution_count": null,
   "id": "ebcaaa6d",
   "metadata": {},
   "outputs": [],
   "source": [
    "# block to answer questions\n",
    "hh_data[\"Опыт работы (месяц)\"].median()\n",
    "\n",
    "# drop column Опыт работы\n",
    "hh_data.drop(columns=\"Опыт работы\", axis=1, inplace=True)"
   ]
  },
  {
   "cell_type": "markdown",
   "id": "f3fdaec9-5fd3-4260-9cf5-1d7406b628a5",
   "metadata": {},
   "source": [
    "4. Хорошо идем! Следующий на очереди признак \"Город, переезд, командировки\". Информация в нем представлена в следующем виде: **<Город , (метро) , готовность к переезду (города для переезда) , готовность к командировкам>**. В скобках указаны необязательные параметры строки. Например, можно встретить следующие варианты:\n",
    "\n",
    "- Москва , не готов к переезду , готов к командировкам\n",
    "- Москва , м. Беломорская , не готов к переезду, не готов к командировкам\n",
    "- Воронеж , готов к переезду (Сочи, Москва, Санкт-Петербург) , готов к командировкам\n",
    "\n",
    "Создадим отдельные признаки **\"Город\"**, **\"Готовность к переезду\"**, **\"Готовность к командировкам\"**. При этом важно учесть:\n",
    "\n",
    "- Признак **\"Город\"** должен содержать только 4 категории: \"Москва\", \"Санкт-Петербург\" и \"город-миллионник\" (их список ниже), остальные обозначьте как \"другие\".\n",
    "\n",
    "  Список городов-миллионников:\n",
    "\n",
    "  <code>million_cities = ['Новосибирск', 'Екатеринбург','Нижний Новгород','Казань', 'Челябинск','Омск', 'Самара', 'Ростов-на-Дону', 'Уфа', 'Красноярск', 'Пермь', 'Воронеж','Волгоград']\n",
    "  </code>\n",
    "  Инфорация о метро, рядом с которым проживает соискатель нас не интересует.\n",
    "\n",
    "- Признак **\"Готовность к переезду\"** должен иметь два возможных варианта: True или False. Обратите внимание, что возможны несколько вариантов описания готовности к переезду в признаке \"Город, переезд, командировки\". Например:\n",
    "  - … , готов к переезду , …\n",
    "  - … , не готова к переезду , …\n",
    "  - … , готова к переезду (Москва, Санкт-Петербург, Ростов-на-Дону)\n",
    "  - … , хочу переехать (США) , …\n",
    "    Нас интересует только сам факт возможности или желания переезда.\n",
    "- Признак **\"Готовность к командировкам\"** должен иметь два возможных варианта: True или False. Обратите внимание, что возможны несколько вариантов описания готовности к командировкам в признаке \"Город, переезд, командировки\". Например:\n",
    "  - … , готов к командировкам , …\n",
    "  - … , готова к редким командировкам , …\n",
    "  - … , не готов к командировкам , …\n",
    "    Нас интересует только сам факт готовности к командировке.\n",
    "    Еще один важный факт: при выгрузки данных у некоторых соискателей \"потерялась\" информация о готовности к командировкам. Давайте по умолчанию будем считать, что такие соискатели не готовы к командировкам.\n",
    "\n",
    "Выполните преобразования и удалите столбец **\"Город, переезд, командировки\"** из таблицы.\n",
    "\n",
    "_Совет: обратите внимание на то, что структура текста может меняться в зависимости от указания ближайшего метро. Учите это, если будете использовать порядок слов в своей программе._\n"
   ]
  },
  {
   "cell_type": "code",
   "execution_count": null,
   "id": "1ea710ec-871b-431e-9462-c7d0fd87011b",
   "metadata": {},
   "outputs": [],
   "source": [
    "def find_city(row: str) -> str:\n",
    "    \"\"\"\n",
    "    Return city or \"город-миллионник\", if it represented in list, otherwise 'другое'.\n",
    "    \"\"\"\n",
    "    capital_cities = [\n",
    "        \"Москва\",\n",
    "        \"Санкт-Петербург\",\n",
    "    ]\n",
    "    million_cities = [\n",
    "        \"Новосибирск\",\n",
    "        \"Екатеринбург\",\n",
    "        \"Нижний Новгород\",\n",
    "        \"Казань\",\n",
    "        \"Челябинск\",\n",
    "        \"Омск\",\n",
    "        \"Самара\",\n",
    "        \"Ростов-на-Дону\",\n",
    "        \"Уфа\",\n",
    "        \"Красноярск\",\n",
    "        \"Пермь\",\n",
    "        \"Воронеж\",\n",
    "        \"Волгоград\",\n",
    "    ]\n",
    "    city = row.split()[0]\n",
    "    if city in capital_cities:\n",
    "        return city\n",
    "    elif city in million_cities:\n",
    "        return \"город-миллионник\"\n",
    "    else:\n",
    "        return \"другие\"\n",
    "\n",
    "\n",
    "def is_ready(row: str, ready_for=\"\") -> bool:\n",
    "    \"\"\"\n",
    "    Return if 'ready_for' string  is presented in row.\n",
    "    \"\"\"\n",
    "    for elem in row.split(\",\"):\n",
    "        if ready_for in elem:\n",
    "            return \"не\" not in elem.split(\"(\")[0]\n",
    "    return False  # if ready_for is not represented in row"
   ]
  },
  {
   "cell_type": "code",
   "execution_count": null,
   "id": "3fc7ba68",
   "metadata": {},
   "outputs": [],
   "source": [
    "hh_data[\"Город\"] = hh_data[\"Город, переезд, командировки\"].apply(find_city)\n",
    "hh_data[\"Готовность к переезду\"] = hh_data[\"Город, переезд, командировки\"].apply(\n",
    "    lambda x: is_ready(x, \"перее\")\n",
    ")\n",
    "hh_data[\"Готовность к командировкам\"] = hh_data[\"Город, переезд, командировки\"].apply(\n",
    "    lambda x: is_ready(x, \"ком\")\n",
    ")\n",
    "\n",
    "# check correct values for each new column\n",
    "possible_cities = [\n",
    "    \"Москва\",\n",
    "    \"Санкт-Петербург\",\n",
    "    \"город-миллионник\",\n",
    "    \"другие\"\n",
    "]\n",
    "for city in hh_data[\"Город\"]:\n",
    "    assert city in possible_cities\n",
    "assert set(hh_data[\"Готовность к переезду\"].unique()) == set([True, False])\n",
    "assert set(hh_data[\"Готовность к командировкам\"].unique()\n",
    "           ) == set([True, False])"
   ]
  },
  {
   "cell_type": "code",
   "execution_count": null,
   "id": "357edcb1",
   "metadata": {},
   "outputs": [],
   "source": [
    "# block to answer questions\n",
    "petersburg = round(len(hh_data[hh_data[\"Город\"] == \"Санкт-Петербург\"]) / len(hh_data[\"Город\"]) * 100)\n",
    "all_ready_to_move = round(len(\n",
    "    hh_data[\n",
    "        (hh_data[\"Готовность к переезду\"] == True)\n",
    "        & (hh_data[\"Готовность к командировкам\"] == True)\n",
    "    ]\n",
    ") / hh_data.shape[0] * 100)\n",
    "print(f\"{petersburg} процентов соискателей живут в Санкт-Петербурге\")\n",
    "print(f\"{all_ready_to_move} процентов соискателей готовы одновременно и к переездам, и к командировкам\")\n",
    "\n",
    "# drop column 'Город, переезд, командировки'\n",
    "hh_data.drop(columns=\"Город, переезд, командировки\", axis=1, inplace=True)"
   ]
  },
  {
   "cell_type": "markdown",
   "id": "0136ffee-0ead-4a6b-b608-61d1c753a438",
   "metadata": {},
   "source": [
    "5. Рассмотрим поближе признаки **\"Занятость\"** и **\"График\"**. Сейчас признаки представляют собой набор категорий желаемой занятости (полная занятость, частичная занятость, проектная работа, волонтерство, стажировка) и желаемого графика работы (полный день, сменный график, гибкий график, удаленная работа, вахтовый метод).\n",
    "   На сайте hh.ru соискатель может указывать различные комбинации данных категорий, например:\n",
    "\n",
    "- полная занятость, частичная занятость\n",
    "- частичная занятость, проектная работа, волонтерство\n",
    "- полный день, удаленная работа\n",
    "- вахтовый метод, гибкий график, удаленная работа, полная занятость\n",
    "\n",
    "Такой вариант признаков имеет множество различных комбинаций, а значит множество уникальных значений, что мешает анализу. Нужно это исправить!\n",
    "\n",
    "Давайте создадим признаки-мигалки для каждой категории: если категория присутствует в списке желаемых соискателем, то в столбце на месте строки рассматриваемого соискателя ставится True, иначе - False.\n",
    "\n",
    "Такой метод преобразования категориальных признаков называется One Hot Encoding и его схема представлена на рисунке ниже:\n",
    "<img src=https://raw.githubusercontent.com/AndreyRysistov/DatasetsForPandas/main/ohe.jpg>\n",
    "Выполните данное преобразование для признаков \"Занятость\" и \"График\", ответьте на контрольные вопросы, после чего удалите их из таблицы\n"
   ]
  },
  {
   "cell_type": "code",
   "execution_count": null,
   "id": "2a07bb11",
   "metadata": {},
   "outputs": [],
   "source": [
    "def one_hot_encoding(pd, columns):\n",
    "    \"\"\"\n",
    "    Performs one hot encoding on chosen columns.\n",
    "    \"\"\"\n",
    "    for column in columns:\n",
    "        list_of_values = list(\n",
    "            set(\n",
    "                [\n",
    "                    category.strip()\n",
    "                    for work in pd[column]\n",
    "                    for category in work.split(\",\")\n",
    "                ]\n",
    "            )\n",
    "        )\n",
    "\n",
    "        for type in list_of_values:\n",
    "            pd[type] = False\n",
    "        for type in list_of_values:\n",
    "            pd[type] = pd[column].str.contains(\n",
    "                type\n",
    "            )  # will use contains to improve speed of searching\n",
    "\n",
    "    return pd"
   ]
  },
  {
   "cell_type": "code",
   "execution_count": null,
   "id": "5b3a8e79-f7ab-4008-b767-12aea3a205ea",
   "metadata": {},
   "outputs": [],
   "source": [
    "hh_data = one_hot_encoding(hh_data, columns=[\"Занятость\", \"График\"])"
   ]
  },
  {
   "cell_type": "code",
   "execution_count": null,
   "id": "b7a15506",
   "metadata": {},
   "outputs": [],
   "source": [
    "# block to answer questions\n",
    "len(hh_data[(hh_data[\"проектная работа\"] == True)\n",
    "    & hh_data[\"волонтерство\"] == True])\n",
    "len(hh_data[(hh_data[\"гибкий график\"] == True)\n",
    "    & hh_data[\"вахтовый метод\"] == True])\n",
    "\n",
    "# drop columns 'Занятость', 'График'\n",
    "hh_data.drop(columns=[\"Занятость\", \"График\"], axis=1, inplace=True)"
   ]
  },
  {
   "cell_type": "markdown",
   "id": "344f123c-b63b-43dd-a8a4-809c1f1bb443",
   "metadata": {},
   "source": [
    "6. (2 балла) Наконец, мы добрались до самого главного и самого важного - признака заработной платы **\"ЗП\"**.\n",
    "   В чем наша беда? В том, что помимо желаемой заработной платы соискатель указывает валюту, в которой он бы хотел ее получать, например:\n",
    "\n",
    "- 30000 руб.\n",
    "- 50000 грн.\n",
    "- 550 USD\n",
    "\n",
    "Нам бы хотелось видеть заработную плату в единой валюте, например, в рублях. Возникает вопрос, а где взять курс валют по отношению к рублю?\n",
    "\n",
    "На самом деле язык Python имеет в арсенале огромное количество возможностей получения данной информации, от обращения к API Центробанка, до использования специальных библиотек, например pycbrf. Однако, это не тема нашего проекта.\n",
    "\n",
    "Поэтому мы пойдем в лоб: обратимся к специальным интернет-ресурсам для получения данных о курсе в виде текстовых файлов. Например, MDF.RU, данный ресурс позволяет удобно экспортировать данные о курсах различных валют и акций за указанные периоды в виде csv файлов. Мы уже сделали выгрузку курсов валют, которые встречаются в наших данных за период с 29.12.2017 по 05.12.2019. Скачать ее вы можете **на платформе**\n",
    "\n",
    "Создайте новый DataFrame из полученного файла. В полученной таблице нас будут интересовать столбцы:\n",
    "\n",
    "- \"currency\" - наименование валюты в ISO кодировке,\n",
    "- \"date\" - дата,\n",
    "- \"proportion\" - пропорция,\n",
    "- \"close\" - цена закрытия (последний зафиксированный курс валюты на указанный день).\n",
    "\n",
    "Перед вами таблица соответствия наименований иностранных валют в наших данных и их общепринятых сокращений, которые представлены в нашем файле с курсами валют. Пропорция - это число, за сколько единиц валюты указан курс в таблице с курсами. Например, для казахстанского тенге курс на 20.08.2019 составляет 17.197 руб. за 100 тенге, тогда итоговый курс равен - 17.197 / 100 = 0.17197 руб за 1 тенге.\n",
    "Воспользуйтесь этой информацией в ваших преобразованиях.\n",
    "\n",
    "<img src=https://raw.githubusercontent.com/AndreyRysistov/DatasetsForPandas/main/table.jpg>\n",
    "\n",
    "Осталось только понять, откуда брать дату, по которой определяется курс? А вот же она - в признаке **\"Обновление резюме\"**, в нем содержится дата и время, когда соискатель выложил текущий вариант своего резюме. Нас интересует только дата, по ней бы и будем сопоставлять курсы валют.\n",
    "\n",
    "Теперь у нас есть вся необходимая информация для того, чтобы создать признак \"ЗП (руб)\" - заработная плата в рублях.\n",
    "\n",
    "После ответа на контрольные вопросы удалите исходный столбец заработной платы \"ЗП\" и все промежуточные столбцы, если вы их создавали.\n"
   ]
  },
  {
   "cell_type": "markdown",
   "id": "6d794257-61f5-4124-956b-67b92b9391a7",
   "metadata": {
    "tags": []
   },
   "source": [
    "Итак, давайте обсудим возможный алгоритм преобразования:\n",
    "\n",
    "1. Перевести признак \"Обновление резюме\" из таблицы с резюме в формат datetime и достать из него дату. В тот же формат привести признак \"date\" из таблицы с валютами.\n",
    "2. Выделить из столбца \"ЗП\" сумму желаемой заработной платы и наименование валюты, в которой она исчисляется. Наименование валюты перевести в стандарт ISO согласно с таблицей выше.\n",
    "3. Присоединить к таблице с резюме таблицу с курсами по столбцам с датой и названием валюты (подумайте, какой тип объединения надо выбрать, чтобы в таблице с резюме сохранились данные о заработной плате, изначально представленной в рублях). Значение close для рубля заполнить единицей 1 (курс рубля самого к себе)\n",
    "4. Умножить сумму желаемой заработной платы на присоединенный курс валюты (close) и разделить на пропорцию (обратите внимание на пропуски после объединения в этих столбцах), результат занести в новый столбец \"ЗП (руб)\".\n"
   ]
  },
  {
   "cell_type": "code",
   "execution_count": null,
   "id": "e91f87ed-e25c-4f96-9f92-b642e8c0b4fa",
   "metadata": {},
   "outputs": [],
   "source": [
    "# read table with currencies\n",
    "currency_data = pd.read_csv(\"../tables/ExchangeRates.csv\", sep=\",\")\n",
    "currencies = currency_data.copy()\n",
    "currencies.head()"
   ]
  },
  {
   "cell_type": "code",
   "execution_count": null,
   "id": "b8f56fdd",
   "metadata": {},
   "outputs": [],
   "source": [
    "def find_date(datetime_str, date_format):\n",
    "    \"Return converted time in selected format.\"\n",
    "    return pd.to_datetime(datetime_str, format=date_format).date().strftime(\"%Y-%m-%d\")"
   ]
  },
  {
   "cell_type": "code",
   "execution_count": null,
   "id": "0f729761",
   "metadata": {},
   "outputs": [],
   "source": [
    "hh_data[\"Обновление резюме\"] = hh_data[\"Обновление резюме\"].apply(\n",
    "    lambda date: find_date(date, \"%d.%m.%Y %H:%M\")\n",
    ")\n",
    "currencies[\"date\"] = currencies[\"date\"].apply(\n",
    "    lambda date: find_date(date, \"%d/%m/%y\"))"
   ]
  },
  {
   "cell_type": "code",
   "execution_count": null,
   "id": "daf42a3d",
   "metadata": {},
   "outputs": [],
   "source": [
    "def convert_to_iso_currecny(currency):\n",
    "    \"\"\"\n",
    "    Return to ISO currency, if it is not in this format\n",
    "    \"\"\"\n",
    "    not_iso_currecnies = {\"бел.руб.\": \"BYN\", \"сум\": \"UZS\", \"грн.\": \"UAH\"}\n",
    "    if currency in not_iso_currecnies:\n",
    "        return not_iso_currecnies[currency]\n",
    "    return currency"
   ]
  },
  {
   "cell_type": "code",
   "execution_count": null,
   "id": "6e46e790",
   "metadata": {},
   "outputs": [],
   "source": [
    "hh_data[\"ЗП (руб)\"] = 0.0\n",
    "\n",
    "for index, row in hh_data.iterrows():\n",
    "    wage, currency = row[\"ЗП\"].split()\n",
    "    wage = float(wage)\n",
    "    if currency == \"руб.\":\n",
    "        hh_data.at[index, \"ЗП (руб)\"] = wage\n",
    "    else:\n",
    "        currency = convert_to_iso_currecny(currency)\n",
    "        mask = currencies[\n",
    "            (currencies[\"date\"] == row[\"Обновление резюме\"])\n",
    "            & (currencies[\"currency\"] == currency)\n",
    "        ]\n",
    "        new_wage = mask[\"close\"].iloc[0] / mask[\"proportion\"].iloc[0] * wage\n",
    "        hh_data.at[index, \"ЗП (руб)\"] = new_wage"
   ]
  },
  {
   "cell_type": "code",
   "execution_count": null,
   "id": "039beeaa",
   "metadata": {},
   "outputs": [],
   "source": [
    "# block to answer questions\n",
    "hh_data[\"ЗП (руб)\"].describe()\n",
    "\n",
    "# drop column 'ЗП'\n",
    "hh_data.drop(columns=\"ЗП\", axis=1, inplace=True)"
   ]
  },
  {
   "cell_type": "code",
   "execution_count": null,
   "id": "7989d67c",
   "metadata": {},
   "outputs": [],
   "source": [
    "# check if all editions were made correctly\n",
    "assert hh_data.shape[1] == 23\n",
    "assert hh_data.shape[0] == 44744"
   ]
  },
  {
   "cell_type": "markdown",
   "id": "7ea20ab6-04a7-40a0-adec-443a0e5a42c3",
   "metadata": {},
   "source": [
    "# Исследование зависимостей в данных\n"
   ]
  },
  {
   "cell_type": "markdown",
   "id": "968aed80-74ef-4ffb-b5bf-c65b84e9caea",
   "metadata": {},
   "source": [
    "1. Постройте распределение признака **\"Возраст\"**. Опишите распределение, отвечая на следующие вопросы: чему равна мода распределения, каковы предельные значения признака, в каком примерном интервале находится возраст большинства соискателей? Есть ли аномалии для признака возраста, какие значения вы бы причислили к их числу?\n",
    "   _Совет: постройте гистограмму и коробчатую диаграмму рядом._\n"
   ]
  },
  {
   "cell_type": "code",
   "execution_count": null,
   "id": "6d5c0955",
   "metadata": {},
   "outputs": [],
   "source": [
    "figure_basic_size = (12, 4)"
   ]
  },
  {
   "cell_type": "code",
   "execution_count": null,
   "id": "f2d62796-d400-4ec1-a675-88112739a50e",
   "metadata": {},
   "outputs": [],
   "source": [
    "\n",
    "fig1 = px.histogram(hh_data, x='Возраст', nbins=20, title='Распределение возраста')\n",
    "fig2 = px.box(hh_data, x='Возраст', title='Коробчатая диаграмма возраста')\n",
    "\n",
    "fig = sp.make_subplots(rows=1, cols=2, subplot_titles=['Распределение возраста', 'Коробчатая диаграмма возраста'])\n",
    "\n",
    "fig.add_trace(fig1['data'][0], row=1, col=1)\n",
    "fig.add_trace(fig2['data'][0], row=1, col=2)\n",
    "fig.update_layout(showlegend=False, title_text=\"Возраст\")\n",
    "\n",
    "display(fig)\n",
    "fig.write_html(\"../graphics/age_histagram_box.html\")"
   ]
  },
  {
   "cell_type": "code",
   "execution_count": null,
   "id": "6114187f",
   "metadata": {},
   "outputs": [],
   "source": [
    "mode = np.argmax(np.bincount(hh_data['Возраст']))\n",
    "print(f\"Мода распределения: {mode}\")\n",
    "\n",
    "min_age = np.min(hh_data['Возраст'])\n",
    "max_age = np.max(hh_data['Возраст'])\n",
    "print(f\"Минимальный возраст: {min_age}\", f\", встречается в данных {(hh_data['Возраст'] <= min_age).sum()} раз\")\n",
    "print(f\"Максимальный возраст: {max_age}\", f\", встречается в данных {(hh_data['Возраст'] >= max_age).sum()} раз\")\n",
    "\n",
    "# Find anomaly values:\n",
    "std_dev = np.std(hh_data['Возраст'])\n",
    "anomalies = [value for value in hh_data['Возраст'] if abs(value - np.mean(hh_data['Возраст'])) > 5 * std_dev]\n",
    "print(f\"Аномалии: {anomalies}\")"
   ]
  },
  {
   "cell_type": "markdown",
   "id": "88967466-5070-4bea-9e71-b3efefdc6e4a",
   "metadata": {},
   "source": [
    "По графикам и полученным расчетам, мы можем сделать вывод, что большая часть соискателей находится в возрасте 30 лет.\n",
    "Есть соискатели возрастом 14 и 100 - для наших данных это, возможно, ошибка заполнения анкеты.\n",
    "Также мы видим, что есть соискатели 65 лет и старше."
   ]
  },
  {
   "cell_type": "markdown",
   "id": "68377cfc-b378-43dc-ab7d-1195abf2c515",
   "metadata": {},
   "source": [
    "2. Постройте распределение признака **\"Опыт работы (месяц)\"**. Опишите данное распределение, отвечая на следующие вопросы: чему равна мода распределения, каковы предельные значения признака, в каком примерном интервале находится опыт работы большинства соискателей? Есть ли аномалии для признака опыта работы, какие значения вы бы причислили к их числу?\n",
    "   _Совет: постройте гистограмму и коробчатую диаграмму рядом._\n"
   ]
  },
  {
   "cell_type": "code",
   "execution_count": null,
   "id": "dd7df27a-e3e8-412e-a21a-5d389b71e891",
   "metadata": {},
   "outputs": [],
   "source": [
    "# create mask to avoid NaN values\n",
    "mask = ~hh_data['Опыт работы (месяц)'].isna()\n",
    "\n",
    "fig1 = px.histogram(hh_data[mask], x='Опыт работы (месяц)', nbins=20, title='Распределение опыта работы')\n",
    "fig2 = px.box(hh_data[mask], x='Опыт работы (месяц)', title='Коробчатая диаграмма опыта работы')\n",
    "fig = sp.make_subplots(rows=1, cols=2, subplot_titles=['Распределение опыта работы', 'Коробчатая диаграмма опыта работы'])\n",
    "\n",
    "fig.add_trace(fig1['data'][0], row=1, col=1)\n",
    "fig.add_trace(fig2['data'][0], row=1, col=2)\n",
    "\n",
    "fig.update_layout(showlegend=False, title_text=\"Опыт работы (месяц)\")\n",
    "\n",
    "display(fig)\n",
    "fig.write_html('../graphics/work_experience_deviation.html')"
   ]
  },
  {
   "cell_type": "code",
   "execution_count": null,
   "id": "467cf27a",
   "metadata": {},
   "outputs": [],
   "source": [
    "# additional block to answer questions and make additional decisions\n",
    "mode = np.nanmax(np.bincount(hh_data['Опыт работы (месяц)'][mask].astype(int)))\n",
    "print(f\"Мода распределения: {mode}\")\n",
    "\n",
    "min_experience = np.nanmin(hh_data['Опыт работы (месяц)'][mask])\n",
    "min_count = (hh_data['Опыт работы (месяц)'][mask] <= min_experience).sum()\n",
    "max_experience = np.nanmax(hh_data['Опыт работы (месяц)'][mask])\n",
    "max_count = (hh_data['Опыт работы (месяц)'][mask] >= max_experience).sum()\n",
    "print(f\"Минимальный опыт работы: {min_experience} месяцев\", f\"встречается {min_count} раз\")\n",
    "print(f\"Максимальный опыт работы: {max_experience} месяцев\", f\"встречается {max_count} раз\")\n",
    "\n",
    "std_dev = np.nanstd(hh_data['Опыт работы (месяц)'][mask])\n",
    "# attention! Work with anomalies can take more than 1 minute!\n",
    "anomalies = [value for value in hh_data['Опыт работы (месяц)'][mask] if abs(value - np.nanmean(hh_data['Опыт работы (месяц)'][mask])) > 6 * std_dev]\n",
    "print(f\"Аномалии: {anomalies}\")"
   ]
  },
  {
   "cell_type": "markdown",
   "id": "7305c34b-089d-4986-be9f-5fa1c0ee281c",
   "metadata": {},
   "source": [
    "При анализе графиков, можно заметить следующие\n",
    "- Наиболее количество резюме приходятся на диапазоне от 50 месяцев (4х лет)  до 149 месяцев (12 лет) работы.\n",
    "- В выборке есть аномалия - опыт работы 1188 месяцев (99 лет) - что больше жизни человека, скорее всего ошибка в данных\n",
    "- После 149х месяцев(12 лет) опыта работы количество соискателкй начинает снижаться\n"
   ]
  },
  {
   "cell_type": "markdown",
   "id": "f2fe0acb-ab1a-4e15-9326-2560e22d73c1",
   "metadata": {},
   "source": [
    "3. Постройте распределение признака **\"ЗП (руб)\"**. Опишите данное распределение, отвечая на следующие вопросы: каковы предельные значения признака, в каком примерном интервале находится заработная плата большинства соискателей? Есть ли аномалии для признака возраста? Обратите внимание на гигантские размеры желаемой заработной платы.\n",
    "   _Совет: постройте гистограмму и коробчатую диаграмму рядом._\n"
   ]
  },
  {
   "cell_type": "code",
   "execution_count": null,
   "id": "436c09ff",
   "metadata": {},
   "outputs": [],
   "source": [
    "fig1 = px.histogram(hh_data, x='ЗП (руб)', nbins=20,\n",
    "                    title='Распределение заработной платы')\n",
    "fig2 = px.box(hh_data, x='ЗП (руб)', color_discrete_sequence=[\n",
    "              'blue'], title='Коробчатая диаграмма заработной платы')\n",
    "fig = sp.make_subplots(rows=1, cols=2, subplot_titles=[\n",
    "                       'Распределение заработной платы', 'Коробчатая диаграмма заработной платы'])\n",
    "\n",
    "fig.add_trace(fig1['data'][0], row=1, col=1)\n",
    "fig.add_trace(fig2['data'][0], row=1, col=2)\n",
    "\n",
    "fig.update_layout(showlegend=False, title_text=\"Заработная плата\")\n",
    "\n",
    "display(fig)\n",
    "fig.write_html('../graphics/salary_deviation.html')"
   ]
  },
  {
   "cell_type": "code",
   "execution_count": null,
   "id": "7508296e",
   "metadata": {},
   "outputs": [],
   "source": [
    "# additional block to answer questions and make additional decisions\n",
    "mode_salary = np.argmax(np.bincount(hh_data['ЗП (руб)']))\n",
    "print(f\"Мода распределения: {mode_salary} руб\")\n",
    "\n",
    "min_salary = np.min(hh_data['ЗП (руб)'])\n",
    "max_salary = np.max(hh_data['ЗП (руб)'])\n",
    "print(f\"Минимальная заработная плата: {min_salary} руб\")\n",
    "print(f\"Максимальная заработная плата: {max_salary} руб\")\n",
    "\n",
    "std_dev_salary = np.std(hh_data['ЗП (руб)'])\n",
    "anomalies_salary = [value for value in hh_data['ЗП (руб)'] if abs(value - np.mean(hh_data['ЗП (руб)'])) > 3 * std_dev_salary]\n",
    "print(f\"Аномалии: {anomalies_salary}\")\n",
    "\n",
    "more_million = (hh_data['ЗП (руб)'] > 1000000).sum()\n",
    "print(f\"Количество резюме с требованием ЗП больше 1000000: {more_million}\")\n",
    "less_thousand = (hh_data['ЗП (руб)'] < 1000).sum()\n",
    "print(f\"Количество резюме с требованием ЗП меньше 1000: {less_thousand}\")"
   ]
  },
  {
   "cell_type": "code",
   "execution_count": null,
   "id": "954fc194",
   "metadata": {},
   "outputs": [],
   "source": [
    "# additional graph for salary research, anomalies make it difficult to read first graph\n",
    "mask = hh_data['ЗП (руб)'] < 1000000\n",
    "\n",
    "fig1 = px.histogram(hh_data[mask], x='ЗП (руб)', nbins=20,\n",
    "                    title='Распределение заработной платы', color_discrete_sequence=['green'])\n",
    "fig2 = px.box(hh_data[mask], x='ЗП (руб)', color_discrete_sequence=[\n",
    "              'green'], title='Коробчатая диаграмма заработной платы')\n",
    "fig = sp.make_subplots(rows=1, cols=2, subplot_titles=[\n",
    "                       'Распределение заработной платы', 'Коробчатая диаграмма заработной платы'])\n",
    "\n",
    "fig.add_trace(fig1['data'][0], row=1, col=1)\n",
    "fig.add_trace(fig2['data'][0], row=1, col=2)\n",
    "\n",
    "fig.update_layout(showlegend=False,\n",
    "                  title_text=\"Заработная плата (менее 1 млн. руб.)\")\n",
    "\n",
    "display(fig)\n",
    "fig.write_html('../graphics/salary_additional_deviation.html')"
   ]
  },
  {
   "cell_type": "markdown",
   "id": "6c39ca13-225e-48f7-a85c-ab07a6cc852a",
   "metadata": {},
   "source": [
    "По итогу анализа четырех графиков (распределение заработной платы и заработная плата (менее 1 млн руб.)) можно заметить следующее:\n",
    "- В данных присутствуют выбросы. Так, пять резюме содержат заработную плату более 1 млн рублей, а 84 резюме - заработную плату меньше 1000 рублей.\n",
    "- В данных присутствует заработная плата равная 24304876 рублей, что может быть ошибкой.\n",
    "- Большая часть резюме сосредоточена в размере заработной платы до 50000 рублей. На дополнительном зеленом графике видно, что 50% резюме сосредоточено в диапазоне до 50000 рублей.\n",
    "- График ассиметричен вправо"
   ]
  },
  {
   "cell_type": "markdown",
   "id": "eab2206d-d95b-468b-8e5f-34381abf0ce7",
   "metadata": {},
   "source": [
    "4. Постройте диаграмму, которая показывает зависимость **медианной** желаемой заработной платы (**\"ЗП (руб)\"**) от уровня образования (**\"Образование\"**). Используйте для диаграммы данные о резюме, где желаемая заработная плата меньше 1 млн рублей.\n",
    "   _Сделайте выводы по представленной диаграмме: для каких уровней образования наблюдаются наибольшие и наименьшие уровни желаемой заработной платы? Как вы считаете, важен ли признак уровня образования при прогнозировании заработной платы?_\n"
   ]
  },
  {
   "cell_type": "code",
   "execution_count": null,
   "id": "80defb23-bfb1-4a18-8be6-bf36aa7165d5",
   "metadata": {},
   "outputs": [],
   "source": [
    "# attention! mask was created in previous Python block above\n",
    "# mask = hh_data['ЗП (руб)'] < 1000000\n",
    "fig1 = px.box(hh_data[mask], x='Образование', y='ЗП (руб)', category_orders={\n",
    "              'Образование': hh_data['Образование'].unique()}, title='Коробчатая диаграмма заработной платы')\n",
    "\n",
    "fig2 = px.scatter(hh_data[mask], x='Образование', y='ЗП (руб)', category_orders={\n",
    "                  'Образование': hh_data['Образование'].unique()}, title='Точечный график заработной платы')\n",
    "\n",
    "fig = sp.make_subplots(rows=1, cols=2, subplot_titles=[\n",
    "                       'Коробчатая диаграмма заработной платы', 'Точечный график заработной платы'])\n",
    "\n",
    "fig.add_trace(fig1['data'][0], row=1, col=1)\n",
    "fig.add_trace(fig2['data'][0], row=1, col=2)\n",
    "\n",
    "fig.update_layout(showlegend=False,\n",
    "                  title_text=\"Заработная плата по уровню образования\")\n",
    "\n",
    "display(fig)\n",
    "fig.write_html(\"../graphics/salary_by_education_deviation_.html\")"
   ]
  },
  {
   "cell_type": "markdown",
   "id": "dc463319-3f85-47dd-b66e-aecb0be0c76f",
   "metadata": {},
   "source": [
    "\n",
    "На графике видно, что с повышением уровня образования заработная плата в среднем увеличивается. Медианная заработная плата для высшего образования составляет 100 000 рублей, для неоконченного высшего образования - 70 000 рублей, для среднего специального образования - 60 000 рублей, для среднего образования - 50 000 рублей.\n",
    "Для прогнозирования заработной платы важно учитывать уровени образования."
   ]
  },
  {
   "cell_type": "markdown",
   "id": "0112af31-f6b0-4e3b-82ab-71296e752e5e",
   "metadata": {},
   "source": [
    "5. Постройте диаграмму, которая показывает распределение желаемой заработной платы (**\"ЗП (руб)\"**) в зависимости от города (**\"Город\"**). Используйте для диаграммы данные о резюме, где желая заработная плата меньше 1 млн рублей.\n",
    "   _Сделайте выводы по полученной диаграмме: как соотносятся медианные уровни желаемой заработной платы и их размах в городах? Как вы считаете, важен ли признак города при прогнозировании заработной платы?_\n"
   ]
  },
  {
   "cell_type": "code",
   "execution_count": null,
   "id": "973b0cfc-a972-470a-8b4a-68744ef220c4",
   "metadata": {},
   "outputs": [],
   "source": [
    "# attention! mask was created in previous Python block above\n",
    "# mask = hh_data['ЗП (руб)'] < 1000000\n",
    "fig = px.box(hh_data[mask], x='Город', y='ЗП (руб)', category_orders={\n",
    "             'Город': hh_data[mask]['Город'].unique()}, title='Коробчатая диаграмма заработной платы по городам')\n",
    "fig.update_layout(showlegend=False, title_text=\"Заработная плата по городам\")\n",
    "display(fig)\n",
    "\n",
    "fig.write_html(\"../graphics/salary_by_city_deviation.html\")"
   ]
  },
  {
   "cell_type": "markdown",
   "id": "2710ce73-2e81-4e38-b52f-833cd14ba47a",
   "metadata": {
    "tags": []
   },
   "source": [
    "На графике распределения заработной платы по городам видно, что в крупных городах, таких как Москва и Санкт-Петербург, желаемая заработная плата выше, чем в других городах. Медианная заработная плата в Москве составляет 85 000 рублей, в Санкт-Петербурге - 60 000 рублей, в городах-миллионниках - 40 000 рублей, в других городах - 40 000 рублей. На графике также видно, что в Москве заработная плата выше, чем в Санкт-Петербурге. Это может быть связано с тем, что Москва является столицей России и центр экономической активности."
   ]
  },
  {
   "cell_type": "markdown",
   "id": "3bfcfdaf-755d-4d2b-8ed8-326201dc07ab",
   "metadata": {},
   "source": [
    "6. Постройте **многоуровневую столбчатую диаграмму**, которая показывает зависимость медианной заработной платы (**\"ЗП (руб)\"**) от признаков **\"Готовность к переезду\"** и **\"Готовность к командировкам\"**. Проанализируйте график, сравнив уровень заработной платы в категориях.\n"
   ]
  },
  {
   "cell_type": "code",
   "execution_count": null,
   "id": "ad3f270f-2991-47eb-929b-e8f88a55b0d1",
   "metadata": {},
   "outputs": [],
   "source": [
    "# create stand-alone df to create figure\n",
    "median_salary_df = pd.DataFrame(index=pd.MultiIndex.from_product(\n",
    "    [['Готовность к переезду', 'Готовность к командировкам'], ['False', 'True']], names=['Признак', 'Значение']))\n",
    "\n",
    "for move_value in ['False', 'True']:\n",
    "    for travel_value in ['False', 'True']:\n",
    "        mask = (hh_data['Готовность к переезду'] == (move_value == 'True')) & (\n",
    "            hh_data['Готовность к командировкам'] == (travel_value == 'True'))\n",
    "        median_salary = hh_data[mask]['ЗП (руб)'].median()\n",
    "        median_salary_df.loc[('Готовность к переезду',\n",
    "                              move_value), 'Медиана'] = median_salary\n",
    "        median_salary_df.loc[('Готовность к командировкам',\n",
    "                              travel_value), 'Медиана'] = median_salary\n",
    "\n",
    "fig = go.Figure()\n",
    "fig.add_trace(go.Bar(x=median_salary_df.index.get_level_values('Признак') + ': ' + median_salary_df.index.get_level_values('Значение').astype(str),\n",
    "                     y=median_salary_df['Медиана'], marker_color='lightblue'))\n",
    "fig.update_layout(title='Медианная заработная плата в зависимости от готовности к переезду и командировкам',\n",
    "                  xaxis_title='Готовность (True/False)', yaxis_title='Медианная заработная плата (руб)')\n",
    "\n",
    "display(fig)\n",
    "fig.write_html(\"../graphics/median_salary_combined_final.html\")"
   ]
  },
  {
   "cell_type": "markdown",
   "id": "efcf512a-4918-4c3f-9357-b3035f9e5f5f",
   "metadata": {},
   "source": [
    "Желаемая заработная плата соискателей зависит от их готовности к переезду и командировкам. Соискатели, которые готовы к командировкам и переезду, в среднем просят более высокую заработную плату, чем соискатели, которые не готовы.  \n",
    "Соискатели, которые готовы к командировкам, в среднем просят более высокую заработную плату. На графике видно, что медианное значение заработной платы для соискателей, которые готовы к командировкам и/или переезду, составляет 67 тыс. руб. Для соискателей, которые не готовы к переезду/комадировкам соотвественно: 50 тыс. руб. и 60 тыс. руб. "
   ]
  },
  {
   "cell_type": "markdown",
   "id": "7b02bb86-0546-40fb-94a4-242f050a5c57",
   "metadata": {},
   "source": [
    "7. Постройте сводную таблицу, иллюстрирующую зависимость **медианной** желаемой заработной платы от возраста (**\"Возраст\"**) и образования (**\"Образование\"**). На полученной сводной таблице постройте **тепловую карту**. Проанализируйте тепловую карту, сравнив показатели внутри групп.\n"
   ]
  },
  {
   "cell_type": "code",
   "execution_count": null,
   "id": "5a0e32a4-e68a-4365-8a39-2fe24c542c36",
   "metadata": {},
   "outputs": [],
   "source": [
    "# attention! mask was created in previous Python block above\n",
    "# mask = hh_data['ЗП (руб)'] < 1000000\n",
    "pivot_table = pd.pivot_table(hh_data[mask], values='ЗП (руб)',\n",
    "                             index='Возраст', columns='Образование', aggfunc=np.median)\n",
    "\n",
    "fig = make_subplots(rows=1, cols=1,\n",
    "                    subplot_titles=['Тепловая карта медианной заработной платы по возрасту и образованию'])\n",
    "heatmap = go.Heatmap(z=pivot_table.values,\n",
    "                     x=pivot_table.columns,\n",
    "                     y=pivot_table.index,\n",
    "                     colorscale='Viridis',\n",
    "                     zmin=0,\n",
    "                     zmax=pivot_table.max().max(),\n",
    "                     colorbar=dict(title='Медианная заработная плата (руб)'))\n",
    "fig.add_trace(heatmap)\n",
    "fig.update_layout(title_text='Тепловая карта медианной заработной платы по возрасту и образованию',\n",
    "                  xaxis=dict(title='Образование'),\n",
    "                  yaxis=dict(title='Возраст'))\n",
    "\n",
    "display(fig)\n",
    "fig.write_html(\"../graphics/salary_heatmap.html\")"
   ]
  },
  {
   "cell_type": "markdown",
   "id": "7aade1c2-16a0-418c-8427-ad93927c7705",
   "metadata": {},
   "source": [
    "Средняя заработная плата соискателей увеличивается с возрастом. На графике видно, что медианное значение заработной платы для соискателей в возрасте от 20 до 30 лет составляет 55 000 рублей, для соискателей в возрасте от 30 до 40 лет - 80 000 рублей.  \n",
    "Соискатели с высшим образованием в среднем просят более высокую заработную плату, чем соискатели с неполным высшим образованием или средним образованием. На графике видно, что медианное значение заработной платы для соискателей с высшим образованием составляет 100 000 рублей, для соискателей с неполным высшим образованием - 80 000 рублей, а для соискателей со средним образованием - 50 000 рублей.  \n",
    "\n",
    "Таким образом, желаемая заработная плата соискателей зависит от их возраста и уровня образования."
   ]
  },
  {
   "cell_type": "markdown",
   "id": "d0247088-9003-455b-a591-a44650f487c3",
   "metadata": {},
   "source": [
    "8. Постройте **диаграмму рассеяния**, показывающую зависимость опыта работы (**\"Опыт работы (месяц)\"**) от возраста (**\"Возраст\"**). Опыт работы переведите из месяцев в года, чтобы признаки были в едином масштабе. Постройте на графике дополнительно прямую, проходящую через точки (0, 0) и (100, 100). Данная прямая соответствует значениям, когда опыт работы равен возрасту человека. Точки, лежащие на этой прямой и выше нее - аномалии в наших данных (опыт работы больше либо равен возрасту соискателя)\n"
   ]
  },
  {
   "cell_type": "code",
   "execution_count": null,
   "id": "a4143e50-b900-4ec8-9ae9-fc3ec3347287",
   "metadata": {},
   "outputs": [],
   "source": [
    "mask = (~hh_data['Возраст'].isna()) & (~hh_data['Опыт работы (месяц)'].isna())\n",
    "\n",
    "filtered_data = hh_data[mask]\n",
    "filtered_data['Опыт работы (год)'] = filtered_data['Опыт работы (месяц)'] / 12\n",
    "\n",
    "fig = go.Figure()\n",
    "fig.add_trace(go.Scatter(\n",
    "    x=filtered_data['Возраст'], y=filtered_data['Опыт работы (год)'], mode='markers', name='Соискатели'))\n",
    "fig.add_trace(go.Scatter(x=[0, 100], y=[0, 100], mode='lines', line=dict(\n",
    "    color='red', dash='dash'), name='Опыт работы = Возраст'))\n",
    "anomalies = filtered_data[filtered_data['Опыт работы (год)']\n",
    "                          >= filtered_data['Возраст']]\n",
    "fig.add_trace(go.Scatter(x=anomalies['Возраст'], y=anomalies['Опыт работы (год)'],\n",
    "              mode='markers', marker=dict(color='orange'), name='Аномалии'))\n",
    "fig.update_layout(title='Диаграмма рассеяния: Опыт работы от возраста',\n",
    "                  xaxis_title='Возраст',\n",
    "                  yaxis_title='Опыт работы (год)',\n",
    "                  showlegend=True)\n",
    "\n",
    "display(fig)\n",
    "fig.write_html(\"../graphics/salary_by_experience_scatter.html\")"
   ]
  },
  {
   "cell_type": "markdown",
   "id": "6f9218ff-52c7-4742-b328-4db5d4da7262",
   "metadata": {},
   "source": [
    "На диаграмме видно, что в целом существует положительная корреляция между опытом работы и желаемой заработной платой. Это означает, что соискатели с большим опытом работы в среднем просят более высокую заработную плату, чем соискатели с меньшим опытом работы.\n",
    "\n",
    "Однако на диаграмме также видно, что существуют аномалии, где возраст соискателя меньше, чем его опыт. На графике такие аномалии отображены желтыми точками. "
   ]
  },
  {
   "cell_type": "markdown",
   "id": "0cc3b0d5-b551-424d-9956-8da18fce17a1",
   "metadata": {},
   "source": [
    "**Дополнительные баллы**\n",
    "\n",
    "Для получения 2 дополнительных баллов по разведывательному анализу постройте еще два любых содержательных графика или диаграммы, которые помогут проиллюстрировать влияние признаков/взаимосвязь между признаками/распределения признаков. Приведите выводы по ним. Желательно, чтобы в анализе участвовали признаки, которые мы создавали ранее в разделе \"Преобразование данных\".\n"
   ]
  },
  {
   "cell_type": "code",
   "execution_count": null,
   "id": "b5cb8fa2",
   "metadata": {},
   "outputs": [],
   "source": [
    "avg_salary_by_education_gender = hh_data.groupby(['Образование', 'Пол'])[\n",
    "    'ЗП (руб)'].mean().reset_index()\n",
    "fig = px.bar(avg_salary_by_education_gender,\n",
    "             x='Образование',\n",
    "             y='ЗП (руб)',\n",
    "             color='Пол',\n",
    "             labels={'ЗП (руб)': 'Средняя Заработная плата (руб)'},\n",
    "             title='Средние зарплаты у мужчин и женщин по видам образования',\n",
    "             category_orders={'Образование': sorted(hh_data['Образование'].unique())})\n",
    "fig.update_layout(xaxis_title='Образование',\n",
    "                  yaxis_title='Средняя Заработная плата (руб)')\n",
    "\n",
    "display(fig)\n",
    "fig.write_html(\"../graphics/salary_by_gender.html\")"
   ]
  },
  {
   "cell_type": "markdown",
   "id": "4f2ba3ee",
   "metadata": {},
   "source": [
    "В целом, соискатели-мужчины просят более высокую заработную плату, чем соискатели-женщины. На графике видно, что вне зависимости от уровня образования, соискатели-мужчины получают с таким же уровенм образования примерно на 15 % больше.\n",
    "На графике видно, что медианное значение заработной платы для соискателей-мужчин с высшим образованием составляет 88 000 рублей, а для соискателей-женщин с высшим образованием - 65 000 рублей."
   ]
  },
  {
   "cell_type": "code",
   "execution_count": null,
   "id": "a6ab9f9a",
   "metadata": {},
   "outputs": [],
   "source": [
    "def is_auto_enabled(row):\n",
    "    if 'Не' in row:\n",
    "        return False\n",
    "    return True"
   ]
  },
  {
   "cell_type": "code",
   "execution_count": null,
   "id": "07a1701a",
   "metadata": {},
   "outputs": [],
   "source": [
    "# Add one-code-hot encoding to column 'Авто'\n",
    "hh_data['Авто'] = hh_data['Авто'].apply(is_auto_enabled)\n",
    "mask = hh_data['Готовность к переезду'] == True\n",
    "\n",
    "fig = px.histogram(filtered_data,\n",
    "                   x='Город',\n",
    "                   color='Авто',\n",
    "                   barmode='group',\n",
    "                   category_orders={'Город': sorted(hh_data[mask]['Город'].unique())},\n",
    "                   labels={'count': 'Количество соискателей'},\n",
    "                   title='Готовность к переезду от наличия автомобиля с учетом города',\n",
    "                   color_discrete_map={True: 'green', False: 'blue'})\n",
    "fig.update_layout(xaxis_title='Город', yaxis_title='Количество соискателей', legend_title='Наличие автомобиля')\n",
    "fig.update_xaxes(tickangle=45, tickmode='array')\n",
    "display(fig)\n",
    "fig.write_html(\"../graphics/ready_to_move_by_auto.html\")\n"
   ]
  },
  {
   "cell_type": "markdown",
   "id": "04966e40-3bc3-4dc8-9ba2-e80580ce3abc",
   "metadata": {},
   "source": [
    "Анализируя график, можем сказать что соискатели не указавшие наличие автомоблия более склонны к переездам и наибольшее количество таких соискателей находится в Москве"
   ]
  },
  {
   "cell_type": "markdown",
   "id": "b1ef156a-efcb-49ce-bb23-90763e7f35b2",
   "metadata": {
    "tags": []
   },
   "source": [
    "# Очистка данных\n"
   ]
  },
  {
   "cell_type": "markdown",
   "id": "b9cd50a0-992d-4988-8463-2b2b1c4629b4",
   "metadata": {},
   "source": [
    "1. Начнем с дубликатов в наших данных. Найдите **полные дубликаты** в таблице с резюме и удалите их.\n"
   ]
  },
  {
   "cell_type": "code",
   "execution_count": null,
   "id": "54ab0e50-c0f1-47cc-a54b-bc5c8bc363f9",
   "metadata": {},
   "outputs": [],
   "source": [
    "initial_rows = hh_data.shape[0]\n",
    "hh_data_no_duplicates = hh_data.drop_duplicates()\n",
    "duplicates_removed = initial_rows - hh_data_no_duplicates.shape[0]\n",
    "print(f\"Количество удаленных полных дубликатов: {duplicates_removed}\")\n",
    "print(\"Размер таблицы\", hh_data.shape[0])"
   ]
  },
  {
   "cell_type": "markdown",
   "id": "4dea20cb-a36b-474a-a0b9-e08e8e3857a5",
   "metadata": {},
   "source": [
    "2. Займемся пропусками. Выведите информацию **о числе пропусков** в столбцах.\n"
   ]
  },
  {
   "cell_type": "code",
   "execution_count": null,
   "id": "9c61b3c0-bb66-46c9-ae1e-81d3f5752b4a",
   "metadata": {},
   "outputs": [],
   "source": [
    "missing_values = hh_data.isnull().sum()\n",
    "print(\"Число пропусков в каждом столбце:\")\n",
    "print(missing_values)\n",
    "experience_missing = missing_values['Опыт работы (месяц)']\n",
    "print(f\"\\nКоличество пропусков в столбце 'Опыт работы (месяц)': {experience_missing}\")\n",
    "print(\"Размер таблицы\", hh_data.shape[0])"
   ]
  },
  {
   "cell_type": "markdown",
   "id": "eedceb80-c5ca-480e-b27a-278dfb8b4438",
   "metadata": {},
   "source": [
    "3. Итак, у нас есть пропуски в 3ех столбцах: **\"Опыт работы (месяц)\"**, **\"Последнее/нынешнее место работы\"**, **\"Последняя/нынешняя должность\"**. Поступим следующим образом: удалите строки, где есть пропуск в столбцах с местом работы и должностью. Пропуски в столбце с опытом работы заполните **медианным** значением.\n"
   ]
  },
  {
   "cell_type": "code",
   "execution_count": null,
   "id": "69621713-0cc5-4f1b-a1d7-bb144fa6148c",
   "metadata": {},
   "outputs": [],
   "source": [
    "median_experience = hh_data['Опыт работы (месяц)'].median()\n",
    "hh_data['Опыт работы (месяц)'].fillna(median_experience, inplace=True)\n",
    "hh_data.dropna(subset=['Последнее/нынешнее место работы', 'Последняя/нынешняя должность'], inplace=True)\n",
    "\n",
    "# check if we have deleted all null values\n",
    "assert (hh_data.isnull().sum() == 0).all()\n",
    "\n",
    "resulting_mean_experience = round(hh_data['Опыт работы (месяц)'].mean())\n",
    "print(f\"Результирующее среднее значение в столбце 'Опыт работы (месяц)': {resulting_mean_experience}\")"
   ]
  },
  {
   "cell_type": "markdown",
   "id": "1be1e9c6-37cf-4a5f-bfeb-04cab799dc80",
   "metadata": {},
   "source": [
    "4. Мы добрались до ликвидации выбросов. Сначала очистим данные вручную. Удалите резюме, в которых указана заработная плата либо выше 1 млн. рублей, либо ниже 1 тыс. рублей.\n"
   ]
  },
  {
   "cell_type": "code",
   "execution_count": null,
   "id": "0036a355-9ccf-4564-8b01-73d8194297e7",
   "metadata": {},
   "outputs": [],
   "source": [
    "hh_data = hh_data[(hh_data['ЗП (руб)'] <= 1000000) & (hh_data['ЗП (руб)'] >= 1000)]\n",
    "print(\"Число строк после удаления выбросов:\", hh_data.shape[0])"
   ]
  },
  {
   "cell_type": "markdown",
   "id": "ec3c8db7-fa21-4a41-a994-1af63742a642",
   "metadata": {},
   "source": [
    "5. В процессе разведывательного анализа мы обнаружили резюме, в которых **опыт работы в годах превышал возраст соискателя**. Найдите такие резюме и удалите их из данных\n"
   ]
  },
  {
   "cell_type": "code",
   "execution_count": null,
   "id": "949132bc-d5b6-4611-8218-0b9a504d74f4",
   "metadata": {},
   "outputs": [],
   "source": [
    "hh_data = hh_data[(hh_data['Возраст']) > (hh_data['Опыт работы (месяц)'] // 12)]\n",
    "hh_data.shape[0]"
   ]
  },
  {
   "cell_type": "markdown",
   "id": "1041c17a-ca8f-4543-a0ca-32778914fb00",
   "metadata": {},
   "source": [
    "6. В результате анализа мы обнаружили потенциальные выбросы в признаке **\"Возраст\"**. Это оказались резюме людей чересчур преклонного возраста для поиска работы. Попробуйте построить распределение признака в **логарифмическом масштабе**. Добавьте к графику линии, отображающие **среднее и границы интервала метода трех сигм**. Напомним, сделать это можно с помощью метода axvline. Например, для построение линии среднего будет иметь вид:\n",
    "\n",
    "`histplot.axvline(log_age.mean(), color='k', lw=2)`\n",
    "\n",
    "В какую сторону асимметрично логарифмическое распределение? Напишите об этом в комментарии к графику.\n",
    "Найдите выбросы с помощью метода z-отклонения и удалите их из данных, используйте логарифмический масштаб. Давайте сделаем послабление на **1 сигму** (возьмите 4 сигмы) в **правую сторону**.\n",
    "\n",
    "Выведите таблицу с полученными выбросами и оцените, с каким возрастом соискатели попадают под категорию выбросов?\n"
   ]
  },
  {
   "cell_type": "code",
   "execution_count": null,
   "id": "6a743d39-5204-48d3-8271-b9f88e68d40e",
   "metadata": {},
   "outputs": [],
   "source": [
    "fig = plt.yscale('log')\n",
    "\n",
    "histplot = sns.histplot(np.log1p(hh_data['Возраст']), bins=30, color='blue', alpha=0.7)\n",
    "\n",
    "# use 3-sigmas method\n",
    "log_mean_age = np.log1p(hh_data['Возраст']).mean()\n",
    "log_std_age = np.log1p(hh_data['Возраст']).std()\n",
    "lower_bound_log = log_mean_age - 3 * log_std_age\n",
    "upper_bound_log = log_mean_age + 3 * log_std_age\n",
    "\n",
    "histplot.axvline(log_mean_age, color='k', linestyle='dashed', linewidth=2, label='Среднее значение')\n",
    "\n",
    "histplot.axvline(lower_bound_log, color='green', linestyle='dashed', linewidth=2, label='Нижняя граница (3 сигмы)')\n",
    "histplot.axvline(upper_bound_log, color='green', linestyle='dashed', linewidth=2, label='Верхняя граница (4 сигмы)')\n",
    "\n",
    "plt.legend()\n",
    "\n",
    "plt.xlabel('log(Возраст)')\n",
    "plt.ylabel('Частота (логарифмический масштаб)')\n",
    "plt.title('Распределение возраста (логарифмический масштаб) с линиями для среднего и интервала 3 сигм')\n",
    "\n",
    "plt.show()"
   ]
  },
  {
   "cell_type": "code",
   "execution_count": null,
   "id": "69470825",
   "metadata": {},
   "outputs": [],
   "source": [
    "log_outliers = hh_data[(np.log1p(hh_data['Возраст']) > (log_mean_age + 3.8 * log_std_age))]\n",
    "\n",
    "print(\"Выбросы с использованием метода z-отклонений (послабление на 4 сигмы вправо):\")\n",
    "print(log_outliers[['Возраст']])"
   ]
  },
  {
   "cell_type": "code",
   "execution_count": null,
   "id": "b8a24a95",
   "metadata": {},
   "outputs": [],
   "source": [
    "log_outliers = hh_data[(np.log1p(hh_data['Возраст']) > (log_mean_age + 4 * log_std_age))]\n",
    "hh_data_filtered = hh_data.drop(log_outliers.index)\n",
    "print(f\"\\nЧисло строк в данных после удаления выбросов: {hh_data_filtered.shape[0]}\")"
   ]
  },
  {
   "cell_type": "markdown",
   "id": "6a7892b4-4113-4746-adce-18aa2844f18e",
   "metadata": {},
   "source": [
    "Анализируя график и рассчеты, можно сделать следующие заключения:\n",
    "- График имеет асимметричен вправо\n",
    "- За верхней границей трех-сигм (в нашем случае с послаблением +1 сигму) количество соискатлей резко сокращается. Возможно это вызвано тем, что соискателям столь преклонного возраста уже сложно работать.\n"
   ]
  }
 ],
 "metadata": {
  "kernelspec": {
   "display_name": "Python 3 (ipykernel)",
   "language": "python",
   "name": "python3"
  },
  "language_info": {
   "codemirror_mode": {
    "name": "ipython",
    "version": 3
   },
   "file_extension": ".py",
   "mimetype": "text/x-python",
   "name": "python",
   "nbconvert_exporter": "python",
   "pygments_lexer": "ipython3",
   "version": "3.11.6"
  }
 },
 "nbformat": 4,
 "nbformat_minor": 5
}
