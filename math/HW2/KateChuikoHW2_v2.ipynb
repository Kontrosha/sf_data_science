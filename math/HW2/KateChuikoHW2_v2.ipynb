{
  "cells": [
    {
      "cell_type": "markdown",
      "metadata": {
        "id": "NyHIGVhfa_Wf"
      },
      "source": [
        "# Стохастический градиентный и координатный спуски"
      ]
    },
    {
      "cell_type": "markdown",
      "metadata": {
        "id": "gn6lluIADUKa"
      },
      "source": [
        "Для каждого задания указано количество баллов (если они оцениваются отдельно) + 1 балл за аккуратное и полное выполнение всего задания"
      ]
    },
    {
      "cell_type": "markdown",
      "metadata": {
        "id": "txCccYvha_Wv"
      },
      "source": [
        "## Загрузка и подготовка данных"
      ]
    },
    {
      "cell_type": "markdown",
      "metadata": {
        "id": "NbyOzeZ6a_Wx"
      },
      "source": [
        "**Загрузите уже знакомый вам файл *Advertising.csv* как объект DataFrame.**"
      ]
    },
    {
      "cell_type": "code",
      "execution_count": 21,
      "metadata": {
        "colab": {
          "base_uri": "https://localhost:8080/",
          "height": 206
        },
        "id": "E1L4_xeDa_Wz",
        "outputId": "6fbb2583-902a-4e94-e896-b11416ed366f"
      },
      "outputs": [
        {
          "data": {
            "text/html": [
              "<div>\n",
              "<style scoped>\n",
              "    .dataframe tbody tr th:only-of-type {\n",
              "        vertical-align: middle;\n",
              "    }\n",
              "\n",
              "    .dataframe tbody tr th {\n",
              "        vertical-align: top;\n",
              "    }\n",
              "\n",
              "    .dataframe thead th {\n",
              "        text-align: right;\n",
              "    }\n",
              "</style>\n",
              "<table border=\"1\" class=\"dataframe\">\n",
              "  <thead>\n",
              "    <tr style=\"text-align: right;\">\n",
              "      <th></th>\n",
              "      <th>Unnamed: 0</th>\n",
              "      <th>TV</th>\n",
              "      <th>radio</th>\n",
              "      <th>newspaper</th>\n",
              "      <th>sales</th>\n",
              "    </tr>\n",
              "  </thead>\n",
              "  <tbody>\n",
              "    <tr>\n",
              "      <th>0</th>\n",
              "      <td>1</td>\n",
              "      <td>230.1</td>\n",
              "      <td>37.8</td>\n",
              "      <td>69.2</td>\n",
              "      <td>22.1</td>\n",
              "    </tr>\n",
              "    <tr>\n",
              "      <th>1</th>\n",
              "      <td>2</td>\n",
              "      <td>44.5</td>\n",
              "      <td>39.3</td>\n",
              "      <td>45.1</td>\n",
              "      <td>10.4</td>\n",
              "    </tr>\n",
              "    <tr>\n",
              "      <th>2</th>\n",
              "      <td>3</td>\n",
              "      <td>17.2</td>\n",
              "      <td>45.9</td>\n",
              "      <td>69.3</td>\n",
              "      <td>9.3</td>\n",
              "    </tr>\n",
              "    <tr>\n",
              "      <th>3</th>\n",
              "      <td>4</td>\n",
              "      <td>151.5</td>\n",
              "      <td>41.3</td>\n",
              "      <td>58.5</td>\n",
              "      <td>18.5</td>\n",
              "    </tr>\n",
              "    <tr>\n",
              "      <th>4</th>\n",
              "      <td>5</td>\n",
              "      <td>180.8</td>\n",
              "      <td>10.8</td>\n",
              "      <td>58.4</td>\n",
              "      <td>12.9</td>\n",
              "    </tr>\n",
              "  </tbody>\n",
              "</table>\n",
              "</div>"
            ],
            "text/plain": [
              "   Unnamed: 0     TV  radio  newspaper  sales\n",
              "0           1  230.1   37.8       69.2   22.1\n",
              "1           2   44.5   39.3       45.1   10.4\n",
              "2           3   17.2   45.9       69.3    9.3\n",
              "3           4  151.5   41.3       58.5   18.5\n",
              "4           5  180.8   10.8       58.4   12.9"
            ]
          },
          "execution_count": 21,
          "metadata": {},
          "output_type": "execute_result"
        }
      ],
      "source": [
        "import pandas as pd\n",
        "data = pd.read_csv('Advertising.csv')\n",
        "adv_data = data.copy()\n",
        "adv_data.head()"
      ]
    },
    {
      "cell_type": "markdown",
      "metadata": {
        "id": "bf4aVFndDUKf"
      },
      "source": [
        "**Проверьте, есть ли в данных пропуски и, если они есть - удалите их**"
      ]
    },
    {
      "cell_type": "code",
      "execution_count": 22,
      "metadata": {
        "colab": {
          "base_uri": "https://localhost:8080/"
        },
        "id": "tiVeFnR5DUKg",
        "outputId": "37c79cd7-da35-433d-8e5d-2e056a2c7184"
      },
      "outputs": [
        {
          "data": {
            "text/plain": [
              "Unnamed: 0    0\n",
              "TV            0\n",
              "radio         0\n",
              "newspaper     0\n",
              "sales         0\n",
              "dtype: int64"
            ]
          },
          "execution_count": 22,
          "metadata": {},
          "output_type": "execute_result"
        }
      ],
      "source": [
        "missing_values = adv_data.isnull().sum()\n",
        "missing_values\n",
        "# удаление не требуется, так как пропущенные значения отсутствуют"
      ]
    },
    {
      "cell_type": "markdown",
      "metadata": {
        "id": "rTkiqPr_DUKh"
      },
      "source": [
        "**Преобразуйте ваши признаки в массивы NumPy и разделите их на переменные X (предикторы) и y(целевая переменная)**"
      ]
    },
    {
      "cell_type": "code",
      "execution_count": 23,
      "metadata": {
        "colab": {
          "base_uri": "https://localhost:8080/"
        },
        "id": "R9OHIRB3a_Xa",
        "outputId": "1ca7448f-84ef-474a-f406-5ddd1b3c5dc7"
      },
      "outputs": [
        {
          "data": {
            "text/plain": [
              "((200, 3), (200,))"
            ]
          },
          "execution_count": 23,
          "metadata": {},
          "output_type": "execute_result"
        }
      ],
      "source": [
        "import numpy as np\n",
        "\n",
        "X = adv_data.drop(['Unnamed: 0', 'sales'], axis=1).values\n",
        "y = adv_data['sales'].values\n",
        "\n",
        "# Проверим размерности полученных массивов с новым именем переменной\n",
        "X.shape, y.shape"
      ]
    },
    {
      "cell_type": "markdown",
      "metadata": {
        "id": "KCvjSoHEDUKo"
      },
      "source": [
        "## Координатный спуск (3 балла)"
      ]
    },
    {
      "cell_type": "markdown",
      "metadata": {
        "id": "yjNm8dATDUKq"
      },
      "source": [
        "**Добавим единичный столбец для того, чтобы у нас был свободный коэффициент в уравнении регрессии:**"
      ]
    },
    {
      "cell_type": "code",
      "execution_count": 24,
      "metadata": {
        "id": "LMgq0fmKDUKr"
      },
      "outputs": [],
      "source": [
        "import numpy as np\n",
        "X = np.hstack([np.ones(X.shape[0]).reshape(-1, 1), X])"
      ]
    },
    {
      "cell_type": "markdown",
      "metadata": {
        "id": "R008OQwcDUKt"
      },
      "source": [
        "**Нормализуем данные: обычно это необходимо для корректной работы алгоритма**"
      ]
    },
    {
      "cell_type": "code",
      "execution_count": 25,
      "metadata": {
        "id": "2Sk7Wx-SDUKt"
      },
      "outputs": [],
      "source": [
        "X = X / np.sqrt(np.sum(np.square(X), axis=0))"
      ]
    },
    {
      "cell_type": "markdown",
      "metadata": {
        "id": "F_pHHbAdDUKu"
      },
      "source": [
        "**Реализуйте алгоритм координатного спуска:** (3 балла)\n",
        "\n",
        "Ниже приведен алгоритм:"
      ]
    },
    {
      "cell_type": "markdown",
      "metadata": {
        "id": "jBQ8vT5UDUKu"
      },
      "source": [
        "<a href=\"https://ibb.co/Th3BQFn\"><img src=\"https://i.ibb.co/DK2DBS6/zascas.jpg\" alt=\"zascas\" border=\"0\"></a>"
      ]
    },
    {
      "cell_type": "markdown",
      "metadata": {
        "id": "5ce_yM20DUKv"
      },
      "source": [
        "Примечание: 1000 итераций здесь указаны для этого задания, на самом деле их может быть намного больше, нет детерменированного значения."
      ]
    },
    {
      "cell_type": "markdown",
      "metadata": {
        "id": "y3IdiHm9DUKv"
      },
      "source": [
        "Вам необходимо реализовать координатный спуск, и вывести веса в модели линейной регрессии."
      ]
    },
    {
      "cell_type": "code",
      "execution_count": 26,
      "metadata": {
        "colab": {
          "base_uri": "https://localhost:8080/"
        },
        "id": "Vsi3d9OfDUKw",
        "outputId": "f8f8a021-280a-49e8-d2bf-c64f29a309d5"
      },
      "outputs": [
        {
          "data": {
            "text/plain": [
              "array([ 41.56217205, 110.13144155,  73.52860638,  -0.55006384])"
            ]
          },
          "execution_count": 26,
          "metadata": {},
          "output_type": "execute_result"
        }
      ],
      "source": [
        "def gradient_descent(X, y, iterations=1000, learning_rate=0.01):\n",
        "    \"\"\"\n",
        "    Применяет градиентный спуск для определения весов линейной регрессии.\n",
        "\n",
        "    :param X: массив numpy, матрица признаков\n",
        "    :param y: массив numpy, вектор целевой переменной\n",
        "    :param iterations: int, количество итераций градиентного спуска\n",
        "    :param learning_rate: float, скорость обучения\n",
        "    :return: w - вектор весов после градиентного спуска\n",
        "    \"\"\"\n",
        "    m, n = X.shape\n",
        "    w = np.zeros(n)  # Инициализация вектора весов w как нулевого\n",
        "    r = np.zeros_like(y)  # Инициализация вектора остатков r\n",
        "\n",
        "    for i in range(iterations):\n",
        "        r = y - np.dot(X, w)\n",
        "        for j in range(n):\n",
        "            r_j = r + X[:, j] * w[j]\n",
        "            w[j] = np.dot(X[:, j], r_j) / np.dot(X[:, j], X[:, j])\n",
        "            r = r_j - X[:, j] * w[j]\n",
        "\n",
        "    return w\n",
        "\n",
        "weights = gradient_descent(X, y)\n",
        "weights"
      ]
    },
    {
      "cell_type": "markdown",
      "metadata": {
        "id": "a3jG-7UADUKx"
      },
      "source": [
        "Сравните результаты с реализацией линейной регрессии из библиотеки sklearn:"
      ]
    },
    {
      "cell_type": "code",
      "execution_count": 27,
      "metadata": {
        "colab": {
          "base_uri": "https://localhost:8080/"
        },
        "id": "SBl-1Yb5DUKy",
        "outputId": "53554c1a-3454-4033-f30e-ed3ec48747e1"
      },
      "outputs": [
        {
          "name": "stdout",
          "output_type": "stream",
          "text": [
            "[ 41.56217205 110.13144155  73.52860638  -0.55006384]\n"
          ]
        }
      ],
      "source": [
        "from sklearn.linear_model import LinearRegression\n",
        "\n",
        "model = LinearRegression(fit_intercept=False)\n",
        "model.fit(X, y)\n",
        "\n",
        "print(model.coef_)"
      ]
    },
    {
      "cell_type": "code",
      "execution_count": 28,
      "metadata": {
        "colab": {
          "base_uri": "https://localhost:8080/"
        },
        "id": "YnpJyCmMRuAd",
        "outputId": "272f900d-fd60-4100-b293-570b99be4a6a"
      },
      "outputs": [
        {
          "name": "stdout",
          "output_type": "stream",
          "text": [
            "MAE для нашего рассчета коэффициентов: 7.0701966779224285e-28\n"
          ]
        }
      ],
      "source": [
        "# блок для сравнение полученных весов\n",
        "error = 0\n",
        "\n",
        "for i in range(len(model.coef_)):\n",
        "    error = (weights[i] - model.coef_[i])**2\n",
        "error = error / len(model.coef_)\n",
        "print(\"MAE для нашего рассчета коэффициентов:\", error)"
      ]
    },
    {
      "cell_type": "markdown",
      "metadata": {
        "id": "hIl0AGLyDUKy"
      },
      "source": [
        "Если вы все сделали верно, они должны практически совпасть!"
      ]
    },
    {
      "cell_type": "markdown",
      "metadata": {
        "id": "VCGwFnPdDUKz"
      },
      "source": [
        "## Стохастический градиентный спуск (6 баллов)"
      ]
    },
    {
      "cell_type": "markdown",
      "metadata": {
        "id": "5u7Q2YJla_Xk"
      },
      "source": [
        "**Отмасштабируйте столбцы исходной матрицы *X* (которую мы не нормализовали еще!). Для того, чтобы это сделать, надо вычесть из каждого значения среднее и разделить на стандартное отклонение** (0.5 баллов)"
      ]
    },
    {
      "cell_type": "code",
      "execution_count": 29,
      "metadata": {
        "colab": {
          "base_uri": "https://localhost:8080/"
        },
        "id": "9cEpV_5La_Xo",
        "outputId": "3462c15c-ac87-4983-dd77-c3dad0ceb37a"
      },
      "outputs": [
        {
          "data": {
            "text/plain": [
              "array([[ 1.        ,  0.96985227,  0.98152247,  1.77894547],\n",
              "       [ 1.        , -1.19737623,  1.08280781,  0.66957876],\n",
              "       [ 1.        , -1.51615499,  1.52846331,  1.78354865],\n",
              "       [ 1.        ,  0.05204968,  1.21785493,  1.28640506],\n",
              "       [ 1.        ,  0.3941822 , -0.84161366,  1.28180188]])"
            ]
          },
          "execution_count": 29,
          "metadata": {},
          "output_type": "execute_result"
        }
      ],
      "source": [
        "def scale_features(X):\n",
        "    \"\"\"\n",
        "    Масштабирование признаков матрицы X путём вычитания среднего\n",
        "    и деления на стандартное отклонение.\n",
        "\n",
        "    :param X: numpy массив, матрица признаков\n",
        "    :return: отмасштабированная матрица признаков\n",
        "    \"\"\"\n",
        "    mean = np.mean(X, axis=0)\n",
        "    std = np.std(X, axis=0)\n",
        "    X_scaled = (X - mean) / std\n",
        "\n",
        "    return X_scaled\n",
        "\n",
        "X_scaled = scale_features(X)\n",
        "X_scaled[:5, :]"
      ]
    },
    {
      "cell_type": "markdown",
      "metadata": {
        "id": "8WkNYILHDUK1"
      },
      "source": [
        "**Добавим единичный столбец**"
      ]
    },
    {
      "cell_type": "code",
      "execution_count": 30,
      "metadata": {
        "id": "EVl5tEGtDUK1"
      },
      "outputs": [],
      "source": [
        "X = np.hstack([np.ones(X.shape[0]).reshape(-1, 1), X])"
      ]
    },
    {
      "cell_type": "markdown",
      "metadata": {
        "id": "m53tZA5fDUK1"
      },
      "source": [
        "**Создайте функцию mse_error для вычисления среднеквадратичной ошибки, принимающую два аргумента: реальные значения и предсказывающие, и возвращающую значение mse** (0.5 балла)"
      ]
    },
    {
      "cell_type": "code",
      "execution_count": 31,
      "metadata": {
        "id": "0cvtC08Aa_YK"
      },
      "outputs": [],
      "source": [
        "def mse_error(actual, predicted):\n",
        "    \"\"\"\n",
        "    Вычисление среднеквадратичной ошибки (MSE).\n",
        "\n",
        "    :param actual: numpy массив, реальные значения целевой переменной.\n",
        "    :param predicted: numpy массив, предсказанные значения целевой переменной.\n",
        "    :return: значение среднеквадратичной ошибки.\n",
        "    \"\"\"\n",
        "    # Вычисляем разность между реальными и предсказанными значениями\n",
        "    difference = actual - predicted\n",
        "    # Возводим разность в квадрат и вычисляем среднее\n",
        "    mse = np.mean(difference ** 2)\n",
        "    return mse"
      ]
    },
    {
      "cell_type": "markdown",
      "metadata": {
        "id": "lpOLhdvBDUK2"
      },
      "source": [
        "**Сделайте наивный прогноз: предскажите продажи средним значением. После этого рассчитайте среднеквадратичную ошибку для этого прогноза** (0.5 балла)"
      ]
    },
    {
      "cell_type": "code",
      "execution_count": 32,
      "metadata": {
        "colab": {
          "base_uri": "https://localhost:8080/"
        },
        "id": "kLV_XljVa_YZ",
        "outputId": "79872391-dd12-430e-95b6-70fa6c3a6650"
      },
      "outputs": [
        {
          "data": {
            "text/plain": [
              "27.085743750000002"
            ]
          },
          "execution_count": 32,
          "metadata": {},
          "output_type": "execute_result"
        }
      ],
      "source": [
        "mean_sales = np.mean(y)\n",
        "\n",
        "predicted_sales_mean = np.full(shape=y.shape, fill_value=mean_sales)\n",
        "\n",
        "mse_for_mean_sales = mse_error(y, predicted_sales_mean)\n",
        "mse_for_mean_sales"
      ]
    },
    {
      "cell_type": "markdown",
      "metadata": {
        "id": "BbybL2ola_ZM"
      },
      "source": [
        "**Создайте функцию *lin_pred*, которая может по матрице предикторов *X* и вектору весов линейной модели *w* получить вектор прогнозов** (0.5 балла)"
      ]
    },
    {
      "cell_type": "code",
      "execution_count": 33,
      "metadata": {
        "id": "1Cyz-Luaa_ZO"
      },
      "outputs": [],
      "source": [
        "def lin_pred(X, w):\n",
        "    \"\"\"\n",
        "    Получение вектора прогнозов для линейной модели.\n",
        "\n",
        "    :param X: numpy массив, матрица предикторов.\n",
        "    :param w: numpy массив, вектор весов линейной модели.\n",
        "    :return: вектор прогнозов.\n",
        "    \"\"\"\n",
        "    # Расчет прогнозов как произведения матрицы X на вектор весов w\n",
        "    predictions = np.dot(X, w)\n",
        "    return predictions"
      ]
    },
    {
      "cell_type": "markdown",
      "metadata": {
        "id": "BU4adBrya_Zm"
      },
      "source": [
        "**Создайте функцию *stoch_grad_step* для реализации шага стохастического градиентного спуска. (1.5 балла)\n",
        "Функция должна принимать на вход следующие аргументы:**\n",
        "* матрицу *X*\n",
        "* вектора *y* и *w*\n",
        "* число *train_ind* - индекс объекта обучающей выборки (строки матрицы *X*), по которому считается изменение весов\n",
        "* число *$\\eta$* (eta) - шаг градиентного спуска\n",
        "\n",
        "Результатом будет вектор обновленных весов"
      ]
    },
    {
      "cell_type": "markdown",
      "metadata": {
        "id": "dyLY-P02DUK5"
      },
      "source": [
        "Шаг для стохастического градиентного спуска выглядит следующим образом:"
      ]
    },
    {
      "cell_type": "markdown",
      "metadata": {
        "id": "ORsAyIKNDUK5"
      },
      "source": [
        "$$\\Large w_j \\leftarrow w_j - \\frac{2\\eta}{\\ell} \\sum_{i=1}^\\ell{{x_{ij}((w_0 + w_1x_{i1} + w_2x_{i2} +  w_3x_{i3}) - y_i)}}$$"
      ]
    },
    {
      "cell_type": "markdown",
      "metadata": {
        "id": "CQl2FrpuDUK6"
      },
      "source": [
        "Для того, чтобы написать функцию, нужно сделать следующее:\n",
        "\n",
        "*  посчитать направление изменения: умножить объект обучающей выборки на 2 и на разницу между предсказанным значением и реальным, а потом поделить на количество элементов в выборке.\n",
        "* вернуть разницу между вектором весов и направлением изменения, умноженным на шаг градиентного спуска"
      ]
    },
    {
      "cell_type": "code",
      "execution_count": 34,
      "metadata": {
        "id": "YUhVQGsja_Zn"
      },
      "outputs": [],
      "source": [
        "def stoch_grad_step(X, y, w, train_ind, eta):\n",
        "    \"\"\"\n",
        "    :param X: numpy массив, матрица предикторов.\n",
        "    :param y: numpy массив, вектор целевой переменной.\n",
        "    :param w: numpy массив, вектор весов модели.\n",
        "    :param train_ind: int, индекс объекта обучающей выборки.\n",
        "    :param eta: float, шаг градиентного спуска.\n",
        "    :return: numpy массив, обновленный вектор весов.\n",
        "    \"\"\"\n",
        "    l = X.shape[0]\n",
        "    y_pred = np.dot(X[train_ind], w)\n",
        "    grad = np.zeros_like(w)\n",
        "    for j in range(len(w)):\n",
        "        grad[j] = (2.0 / l) * X[train_ind, j] * (y_pred - y[train_ind])\n",
        "\n",
        "    new_w = w - eta * grad\n",
        "\n",
        "    return new_w\n"
      ]
    },
    {
      "cell_type": "markdown",
      "metadata": {
        "id": "pXwIFd0Ma_Zx"
      },
      "source": [
        "**Создайте функцию *stochastic_gradient_descent*, для реализации стохастического градиентного спуска (2.5 балла)**\n",
        "\n",
        "**Функция принимает на вход следующие аргументы:**\n",
        "- Матрицу признаков X\n",
        "- Целевую переменнную\n",
        "- Изначальную точку (веса модели)\n",
        "- Параметр, определяющий темп обучения\n",
        "- Максимальное число итераций\n",
        "- Евклидово расстояние между векторами весов на соседних итерациях градиентного спуска,при котором алгоритм прекращает работу\n",
        "\n",
        "**На каждой итерации в вектор (список) должно записываться текущее значение среднеквадратичной ошибки. Функция должна возвращать вектор весов $w$, а также вектор (список) ошибок.**"
      ]
    },
    {
      "cell_type": "markdown",
      "metadata": {
        "id": "ZVeoNF1JDUK7"
      },
      "source": [
        "Алгоритм сследующий:\n",
        "    \n",
        "* Инициализируйте расстояние между векторами весов на соседних итерациях большим числом (можно бесконечностью)\n",
        "* Создайте пустой список для фиксации ошибок\n",
        "* Создайте счетчик итераций\n",
        "* Реализуйте оновной цикл обучения пока расстояние между векторами весов больше того, при котором надо прекратить работу (когда расстояния станут слишком маленькими - значит, мы застряли в одном месте) и количество итераций меньше максимально разрешенного: сгенерируйте случайный индекс, запишите текущую ошибку в вектор ошибок, запишите в переменную текущий шаг стохастического спуска с использованием функции, написанной ранее. Далее рассчитайте текущее расстояние между векторами весов и прибавьте к счетчику итераций 1.\n",
        "* Верните вектор весов и вектор ошибок"
      ]
    },
    {
      "cell_type": "code",
      "execution_count": 35,
      "metadata": {
        "colab": {
          "base_uri": "https://localhost:8080/"
        },
        "id": "CD_xcFNfa_Zy",
        "outputId": "4d2329a0-0f86-478f-863c-e3893fc865bf"
      },
      "outputs": [
        {
          "data": {
            "text/plain": [
              "(array([14.03748568,  3.90619303,  2.79327688, -0.02682682]),\n",
              " [223.71625,\n",
              "  223.6864309958886,\n",
              "  223.61900275193875,\n",
              "  223.60296945364126,\n",
              "  223.55753851332224,\n",
              "  223.51536440290533,\n",
              "  223.47228124040166,\n",
              "  223.41252041974116,\n",
              "  223.38348904375124,\n",
              "  223.3726934784111])"
            ]
          },
          "execution_count": 35,
          "metadata": {},
          "output_type": "execute_result"
        }
      ],
      "source": [
        "def stochastic_gradient_descent(X, y, initial_w, eta, max_iter, tolerance):\n",
        "    \"\"\"\n",
        "    Реализация стохастического градиентного спуска.\n",
        "\n",
        "    :param X: numpy массив, матрица признаков.\n",
        "    :param y: numpy массив, вектор целевой переменной.\n",
        "    :param initial_w: numpy массив, начальный вектор весов модели.\n",
        "    :param eta: float, темп обучения.\n",
        "    :param max_iter: int, максимальное количество итераций.\n",
        "    :param tolerance: float, евклидово расстояние между векторами весов, при котором алгоритм прекращает работу.\n",
        "    :return: tuple, вектор весов и вектор (список) ошибок.\n",
        "    \"\"\"\n",
        "    w = initial_w.copy()\n",
        "    errors = []\n",
        "    iter_count = 0\n",
        "    weight_diff = np.inf\n",
        "\n",
        "    while weight_diff > tolerance and iter_count < max_iter:\n",
        "        random_ind = np.random.randint(low=0, high=X.shape[0])\n",
        "        current_prediction = lin_pred(X, w)\n",
        "        current_error = mse_error(y, current_prediction)\n",
        "        errors.append(current_error)\n",
        "        new_w = stoch_grad_step(X, y, w, random_ind, eta)\n",
        "        weight_diff = np.linalg.norm(new_w - w)\n",
        "        w = new_w\n",
        "        iter_count += 1\n",
        "\n",
        "    return w, errors\n",
        "\n",
        "initial_w = np.zeros(X_scaled.shape[1])\n",
        "eta = 0.01\n",
        "max_iter= 100000\n",
        "tolerance = 1e-8\n",
        "\n",
        "final_w, errors = stochastic_gradient_descent(X_scaled, y, initial_w, eta, max_iter, tolerance)\n",
        "final_w, errors[:10]  # Выведем вектор весов и первые 10 ошибок\n"
      ]
    },
    {
      "cell_type": "markdown",
      "metadata": {
        "id": "0OqHO1Rta_Z7"
      },
      "source": [
        " **Запустите $10^5$ итераций стохастического градиентного спуска. Укажите вектор начальных весов, состоящий из нулей. Можете поэкспериментировать с параметром, отвечающим за темп обучения.**"
      ]
    },
    {
      "cell_type": "markdown",
      "metadata": {
        "id": "N6fHHT6vDUK8"
      },
      "source": [
        "**Постройте график зависимости ошибки от номера итерации**"
      ]
    },
    {
      "cell_type": "code",
      "execution_count": 36,
      "metadata": {
        "colab": {
          "base_uri": "https://localhost:8080/",
          "height": 564
        },
        "id": "zsSfHDzLDUK9",
        "outputId": "7b4fa76f-41b1-4f71-d9a9-4a7548b208e0"
      },
      "outputs": [
        {
          "data": {
            "image/png": "[encoded data removed]",
            "text/plain": [
              "<Figure size 1000x600 with 1 Axes>"
            ]
          },
          "metadata": {},
          "output_type": "display_data"
        }
      ],
      "source": [
        "import matplotlib.pyplot as plt\n",
        "\n",
        "plt.figure(figsize=(10, 6))\n",
        "plt.plot(errors, label='MSE Error')\n",
        "plt.xlabel('Iteration Number')\n",
        "plt.ylabel('Mean Squared Error')\n",
        "plt.title('Error vs. Iteration Number')\n",
        "plt.legend()\n",
        "plt.grid(True)\n",
        "plt.show()"
      ]
    },
    {
      "cell_type": "markdown",
      "metadata": {
        "id": "O-MVOcJ6a_aY"
      },
      "source": [
        "**Выведите вектор весов, к которому сошелся метод.**"
      ]
    },
    {
      "cell_type": "code",
      "execution_count": 37,
      "metadata": {
        "colab": {
          "base_uri": "https://localhost:8080/"
        },
        "id": "MPjVkXe4DUK9",
        "outputId": "dfe1c01b-8113-4826-af6a-376e4eafa235"
      },
      "outputs": [
        {
          "data": {
            "text/plain": [
              "array([14.03748568,  3.90619303,  2.79327688, -0.02682682])"
            ]
          },
          "execution_count": 37,
          "metadata": {},
          "output_type": "execute_result"
        }
      ],
      "source": [
        "final_w"
      ]
    },
    {
      "cell_type": "markdown",
      "metadata": {
        "id": "qabzMc3Qa_a5"
      },
      "source": [
        "**Выведите среднеквадратичную ошибку на последней итерации.**"
      ]
    },
    {
      "cell_type": "code",
      "execution_count": 38,
      "metadata": {
        "colab": {
          "base_uri": "https://localhost:8080/"
        },
        "id": "7tPWleMIa_a7",
        "outputId": "4f10bc19-38ad-4aef-d2f2-75a0b7dc2f3a"
      },
      "outputs": [
        {
          "data": {
            "text/plain": [
              "2.7845422476775616"
            ]
          },
          "execution_count": 38,
          "metadata": {},
          "output_type": "execute_result"
        }
      ],
      "source": [
        "last_error = errors[-1]\n",
        "last_error"
      ]
    },
    {
      "cell_type": "code",
      "execution_count": 39,
      "metadata": {
        "colab": {
          "base_uri": "https://localhost:8080/"
        },
        "id": "SgoA-Z5nRuAp",
        "outputId": "20a666a9-9608-4ec1-bb31-24e0076e2d5b"
      },
      "outputs": [
        {
          "data": {
            "text/plain": [
              "(array([ 7.01202833,  3.91753967,  2.77710561, -0.00844601]),\n",
              " 2.7844414873048233,\n",
              " 0.8971990020652535)"
            ]
          },
          "execution_count": 39,
          "metadata": {},
          "output_type": "execute_result"
        }
      ],
      "source": [
        "# выполнение дополнительного задания\n",
        "\n",
        "from sklearn.linear_model import SGDRegressor\n",
        "from sklearn.metrics import mean_squared_error, r2_score\n",
        "\n",
        "# Создаем и обучаем модель с помощью SGDRegressor\n",
        "sgd_regressor = SGDRegressor(max_iter=1000, tol=1e-3)\n",
        "sgd_regressor.fit(X_scaled, y)\n",
        "y_pred_sgd = sgd_regressor.predict(X_scaled)\n",
        "mse_sgd = mean_squared_error(y, y_pred_sgd)\n",
        "r2_sgd = r2_score(y, y_pred_sgd)\n",
        "\n",
        "sgd_regressor.coef_, mse_sgd, r2_sgd"
      ]
    },
    {
      "cell_type": "code",
      "execution_count": 44,
      "metadata": {},
      "outputs": [
        {
          "name": "stdout",
          "output_type": "stream",
          "text": [
            "TensorFlow is not installed. Installing TensorFlow...\n",
            "Defaulting to user installation because normal site-packages is not writeable\n",
            "Requirement already satisfied: tensorflow in /Users/kate-chuiko-os-x/Library/Python/3.9/lib/python/site-packages (2.16.1)\n",
            "Requirement already satisfied: absl-py>=1.0.0 in /Users/kate-chuiko-os-x/Library/Python/3.9/lib/python/site-packages (from tensorflow) (2.1.0)\n",
            "Requirement already satisfied: astunparse>=1.6.0 in /Users/kate-chuiko-os-x/Library/Python/3.9/lib/python/site-packages (from tensorflow) (1.6.3)\n",
            "Requirement already satisfied: flatbuffers>=23.5.26 in /Users/kate-chuiko-os-x/Library/Python/3.9/lib/python/site-packages (from tensorflow) (24.3.7)\n",
            "Requirement already satisfied: gast!=0.5.0,!=0.5.1,!=0.5.2,>=0.2.1 in /Users/kate-chuiko-os-x/Library/Python/3.9/lib/python/site-packages (from tensorflow) (0.5.4)\n",
            "Requirement already satisfied: google-pasta>=0.1.1 in /Users/kate-chuiko-os-x/Library/Python/3.9/lib/python/site-packages (from tensorflow) (0.2.0)\n",
            "Requirement already satisfied: h5py>=3.10.0 in /Users/kate-chuiko-os-x/Library/Python/3.9/lib/python/site-packages (from tensorflow) (3.10.0)\n",
            "Requirement already satisfied: libclang>=13.0.0 in /Users/kate-chuiko-os-x/Library/Python/3.9/lib/python/site-packages (from tensorflow) (16.0.6)\n",
            "Requirement already satisfied: ml-dtypes~=0.3.1 in /Users/kate-chuiko-os-x/Library/Python/3.9/lib/python/site-packages (from tensorflow) (0.3.2)\n",
            "Requirement already satisfied: opt-einsum>=2.3.2 in /Users/kate-chuiko-os-x/Library/Python/3.9/lib/python/site-packages (from tensorflow) (3.3.0)\n",
            "Requirement already satisfied: packaging in /Users/kate-chuiko-os-x/Library/Python/3.9/lib/python/site-packages (from tensorflow) (23.2)\n",
            "Requirement already satisfied: protobuf!=4.21.0,!=4.21.1,!=4.21.2,!=4.21.3,!=4.21.4,!=4.21.5,<5.0.0dev,>=3.20.3 in /Users/kate-chuiko-os-x/Library/Python/3.9/lib/python/site-packages (from tensorflow) (4.25.3)\n",
            "Requirement already satisfied: requests<3,>=2.21.0 in /Library/Python/3.9/site-packages (from tensorflow) (2.31.0)\n",
            "Requirement already satisfied: setuptools in /Library/Developer/CommandLineTools/Library/Frameworks/Python3.framework/Versions/3.9/lib/python3.9/site-packages (from tensorflow) (58.0.4)\n",
            "Requirement already satisfied: six>=1.12.0 in /Library/Developer/CommandLineTools/Library/Frameworks/Python3.framework/Versions/3.9/lib/python3.9/site-packages (from tensorflow) (1.15.0)\n",
            "Requirement already satisfied: termcolor>=1.1.0 in /Users/kate-chuiko-os-x/Library/Python/3.9/lib/python/site-packages (from tensorflow) (2.4.0)\n",
            "Requirement already satisfied: typing-extensions>=3.6.6 in /Users/kate-chuiko-os-x/Library/Python/3.9/lib/python/site-packages (from tensorflow) (4.8.0)\n",
            "Requirement already satisfied: wrapt>=1.11.0 in /Users/kate-chuiko-os-x/Library/Python/3.9/lib/python/site-packages (from tensorflow) (1.16.0)\n",
            "Requirement already satisfied: grpcio<2.0,>=1.24.3 in /Users/kate-chuiko-os-x/Library/Python/3.9/lib/python/site-packages (from tensorflow) (1.62.1)\n",
            "Requirement already satisfied: tensorboard<2.17,>=2.16 in /Users/kate-chuiko-os-x/Library/Python/3.9/lib/python/site-packages (from tensorflow) (2.16.2)\n",
            "Requirement already satisfied: keras>=3.0.0 in /Users/kate-chuiko-os-x/Library/Python/3.9/lib/python/site-packages (from tensorflow) (3.0.5)\n",
            "Requirement already satisfied: tensorflow-io-gcs-filesystem>=0.23.1 in /Users/kate-chuiko-os-x/Library/Python/3.9/lib/python/site-packages (from tensorflow) (0.36.0)\n",
            "Requirement already satisfied: numpy<2.0.0,>=1.23.5 in /Users/kate-chuiko-os-x/Library/Python/3.9/lib/python/site-packages (from tensorflow) (1.26.0)\n",
            "Requirement already satisfied: wheel<1.0,>=0.23.0 in /Library/Developer/CommandLineTools/Library/Frameworks/Python3.framework/Versions/3.9/lib/python3.9/site-packages (from astunparse>=1.6.0->tensorflow) (0.37.0)\n",
            "Requirement already satisfied: rich in /Users/kate-chuiko-os-x/Library/Python/3.9/lib/python/site-packages (from keras>=3.0.0->tensorflow) (13.7.1)\n",
            "Requirement already satisfied: namex in /Users/kate-chuiko-os-x/Library/Python/3.9/lib/python/site-packages (from keras>=3.0.0->tensorflow) (0.0.7)\n",
            "Requirement already satisfied: dm-tree in /Users/kate-chuiko-os-x/Library/Python/3.9/lib/python/site-packages (from keras>=3.0.0->tensorflow) (0.1.8)\n",
            "Requirement already satisfied: charset-normalizer<4,>=2 in /Library/Python/3.9/site-packages (from requests<3,>=2.21.0->tensorflow) (3.3.2)\n",
            "Requirement already satisfied: idna<4,>=2.5 in /Library/Python/3.9/site-packages (from requests<3,>=2.21.0->tensorflow) (3.6)\n",
            "Requirement already satisfied: urllib3<3,>=1.21.1 in /Library/Python/3.9/site-packages (from requests<3,>=2.21.0->tensorflow) (2.1.0)\n",
            "Requirement already satisfied: certifi>=2017.4.17 in /Library/Python/3.9/site-packages (from requests<3,>=2.21.0->tensorflow) (2023.11.17)\n",
            "Requirement already satisfied: markdown>=2.6.8 in /Users/kate-chuiko-os-x/Library/Python/3.9/lib/python/site-packages (from tensorboard<2.17,>=2.16->tensorflow) (3.5.2)\n",
            "Requirement already satisfied: tensorboard-data-server<0.8.0,>=0.7.0 in /Users/kate-chuiko-os-x/Library/Python/3.9/lib/python/site-packages (from tensorboard<2.17,>=2.16->tensorflow) (0.7.2)\n",
            "Requirement already satisfied: werkzeug>=1.0.1 in /Library/Python/3.9/site-packages (from tensorboard<2.17,>=2.16->tensorflow) (3.0.1)\n",
            "Requirement already satisfied: importlib-metadata>=4.4 in /Users/kate-chuiko-os-x/Library/Python/3.9/lib/python/site-packages (from markdown>=2.6.8->tensorboard<2.17,>=2.16->tensorflow) (6.8.0)\n",
            "Requirement already satisfied: MarkupSafe>=2.1.1 in /Library/Python/3.9/site-packages (from werkzeug>=1.0.1->tensorboard<2.17,>=2.16->tensorflow) (2.1.3)\n",
            "Requirement already satisfied: markdown-it-py>=2.2.0 in /Users/kate-chuiko-os-x/Library/Python/3.9/lib/python/site-packages (from rich->keras>=3.0.0->tensorflow) (3.0.0)\n",
            "Requirement already satisfied: pygments<3.0.0,>=2.13.0 in /Users/kate-chuiko-os-x/Library/Python/3.9/lib/python/site-packages (from rich->keras>=3.0.0->tensorflow) (2.16.1)\n",
            "Requirement already satisfied: zipp>=0.5 in /Users/kate-chuiko-os-x/Library/Python/3.9/lib/python/site-packages (from importlib-metadata>=4.4->markdown>=2.6.8->tensorboard<2.17,>=2.16->tensorflow) (3.17.0)\n",
            "Requirement already satisfied: mdurl~=0.1 in /Users/kate-chuiko-os-x/Library/Python/3.9/lib/python/site-packages (from markdown-it-py>=2.2.0->rich->keras>=3.0.0->tensorflow) (0.1.2)\n",
            "\n",
            "\u001b[1m[\u001b[0m\u001b[34;49mnotice\u001b[0m\u001b[1;39;49m]\u001b[0m\u001b[39;49m A new release of pip is available: \u001b[0m\u001b[31;49m23.2.1\u001b[0m\u001b[39;49m -> \u001b[0m\u001b[32;49m24.0\u001b[0m\n",
            "\u001b[1m[\u001b[0m\u001b[34;49mnotice\u001b[0m\u001b[1;39;49m]\u001b[0m\u001b[39;49m To update, run: \u001b[0m\u001b[32;49m/Library/Developer/CommandLineTools/usr/bin/python3 -m pip install --upgrade pip\u001b[0m\n"
          ]
        }
      ],
      "source": [
        "try:\n",
        "    import tensorflow as tf\n",
        "    print(f\"TensorFlow установлен, версия: {tf.__version__}. Можно продолжать работу.\")\n",
        "except ImportError:\n",
        "    print(\"TensorFlow установлен. Выполним установку TensorFlow...\")\n",
        "    !pip install tensorflow\n"
      ]
    },
    {
      "cell_type": "code",
      "execution_count": 45,
      "metadata": {
        "colab": {
          "base_uri": "https://localhost:8080/"
        },
        "id": "FwY56iUdRuAp",
        "outputId": "fe5a3bc1-0d09-4498-e172-ba44419c0314"
      },
      "outputs": [
        {
          "ename": "ModuleNotFoundError",
          "evalue": "No module named 'tensorflow'",
          "output_type": "error",
          "traceback": [
            "\u001b[0;31m---------------------------------------------------------------------------\u001b[0m",
            "\u001b[0;31mModuleNotFoundError\u001b[0m                       Traceback (most recent call last)",
            "Cell \u001b[0;32mIn[45], line 2\u001b[0m\n\u001b[1;32m      1\u001b[0m \u001b[38;5;66;03m# выполним также обучение модели с помощью класса в tensorflow\u001b[39;00m\n\u001b[0;32m----> 2\u001b[0m \u001b[38;5;28;01mimport\u001b[39;00m \u001b[38;5;21;01mtensorflow\u001b[39;00m \u001b[38;5;28;01mas\u001b[39;00m \u001b[38;5;21;01mtf\u001b[39;00m\n\u001b[1;32m      4\u001b[0m \u001b[38;5;66;03m# Определение модели.\u001b[39;00m\n\u001b[1;32m      5\u001b[0m model \u001b[38;5;241m=\u001b[39m tf\u001b[38;5;241m.\u001b[39mkeras\u001b[38;5;241m.\u001b[39mSequential([\n\u001b[1;32m      6\u001b[0m     tf\u001b[38;5;241m.\u001b[39mkeras\u001b[38;5;241m.\u001b[39mlayers\u001b[38;5;241m.\u001b[39mDense(\u001b[38;5;241m1\u001b[39m, input_shape\u001b[38;5;241m=\u001b[39m(X_scaled\u001b[38;5;241m.\u001b[39mshape[\u001b[38;5;241m1\u001b[39m],))\n\u001b[1;32m      7\u001b[0m ])\n",
            "\u001b[0;31mModuleNotFoundError\u001b[0m: No module named 'tensorflow'"
          ]
        }
      ],
      "source": [
        "# выполним также обучение модели с помощью класса в tensorflow\n",
        "import tensorflow as tf\n",
        "\n",
        "# Определение модели.\n",
        "model = tf.keras.Sequential([\n",
        "    tf.keras.layers.Dense(1, input_shape=(X_scaled.shape[1],))\n",
        "])\n",
        "model.compile(optimizer='sgd', loss='mean_squared_error')\n",
        "history = model.fit(X_scaled, y, epochs=100, verbose=0)\n",
        "\n",
        "y_pred_tf = model.predict(X_scaled).flatten()\n",
        "mse_tf = mean_squared_error(y, y_pred_tf)\n",
        "\n",
        "\n",
        "weights_tf = model.get_weights()[0]\n",
        "bias_tf = model.get_weights()[1]\n",
        "weights_tf, mse_tf"
      ]
    },
    {
      "cell_type": "code",
      "execution_count": null,
      "metadata": {
        "id": "WYvg0expU6gF"
      },
      "outputs": [],
      "source": []
    }
  ],
  "metadata": {
    "colab": {
      "provenance": []
    },
    "kernelspec": {
      "display_name": "Python 3 (ipykernel)",
      "language": "python",
      "name": "python3"
    },
    "language_info": {
      "codemirror_mode": {
        "name": "ipython",
        "version": 3
      },
      "file_extension": ".py",
      "mimetype": "text/x-python",
      "name": "python",
      "nbconvert_exporter": "python",
      "pygments_lexer": "ipython3",
      "version": "3.11.8"
    }
  },
  "nbformat": 4,
  "nbformat_minor": 0
}
